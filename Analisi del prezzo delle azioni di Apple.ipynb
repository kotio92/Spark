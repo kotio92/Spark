{
 "cells": [
  {
   "cell_type": "markdown",
   "metadata": {},
   "source": [
    "# Analisi del prezzo delle azioni di Apple"
   ]
  },
  {
   "cell_type": "markdown",
   "metadata": {},
   "source": [
    "Andiamo ad analizzare il titolo azionario di Apple (AAPL); nello specifico cercheremo risposta per le seguenti domande:"
   ]
  },
  {
   "cell_type": "markdown",
   "metadata": {},
   "source": [
    "* **Qual è stato il valore massimo raggiunto dal AAPL ? In che data lo ha raggiunto ?**\n",
    "* **Qual è stato il valore minimo raggiunto dal AAPL dopo il 2000 ? In che data lo ha raggiunto ?**\n",
    "* **Qual è la percentuale di giorni in cui il prezzo di chiusura è stato inferiore ai 100 USD ?**\n",
    "* **Qual è la percentuale di giorni dopo il 2014 in cui il prezzo di chiusura è stato inferiore ai 100 USD ?**\n",
    "* **Visualizza il valore massimo per anno.**\n",
    "* **In quale anno sono state scambiate più azioni di Apple (anno con il volume maggiore).**"
   ]
  },
  {
   "cell_type": "markdown",
   "metadata": {},
   "source": [
    "### Importazione delle librerie"
   ]
  },
  {
   "cell_type": "code",
   "execution_count": 1,
   "metadata": {},
   "outputs": [],
   "source": [
    "import os\n",
    "import pandas as pd"
   ]
  },
  {
   "cell_type": "code",
   "execution_count": 2,
   "metadata": {},
   "outputs": [],
   "source": [
    "import pyspark.sql.functions\n",
    "from pyspark.sql.types import *"
   ]
  },
  {
   "cell_type": "markdown",
   "metadata": {},
   "source": [
    "### Inizializzazione di Spark"
   ]
  },
  {
   "cell_type": "code",
   "execution_count": 3,
   "metadata": {},
   "outputs": [],
   "source": [
    "from pyspark.sql import SparkSession\n",
    "spark = SparkSession.builder.appName('basic').getOrCreate()\n",
    "from pyspark.sql.types import *"
   ]
  },
  {
   "cell_type": "markdown",
   "metadata": {},
   "source": [
    "### Caricamento del dataset"
   ]
  },
  {
   "cell_type": "code",
   "execution_count": 4,
   "metadata": {},
   "outputs": [],
   "source": [
    "apple = spark.read.csv('5 -  Serie storiche/data/AAPL.csv',header=True, inferSchema=True)"
   ]
  },
  {
   "cell_type": "code",
   "execution_count": 5,
   "metadata": {},
   "outputs": [
    {
     "name": "stdout",
     "output_type": "stream",
     "text": [
      "+----------+--------+--------+--------+--------+---------+---------+\n",
      "|      Date|    Open|    High|     Low|   Close|Adj Close|   Volume|\n",
      "+----------+--------+--------+--------+--------+---------+---------+\n",
      "|1980-12-12|0.513393|0.515625|0.513393|0.513393| 0.410525|117258400|\n",
      "|1980-12-15|0.488839|0.488839|0.486607|0.486607| 0.389106| 43971200|\n",
      "|1980-12-16|0.453125|0.453125|0.450893|0.450893| 0.360548| 26432000|\n",
      "|1980-12-17|0.462054|0.464286|0.462054|0.462054| 0.369472| 21610400|\n",
      "|1980-12-18|0.475446|0.477679|0.475446|0.475446| 0.380182| 18362400|\n",
      "+----------+--------+--------+--------+--------+---------+---------+\n",
      "only showing top 5 rows\n",
      "\n"
     ]
    }
   ],
   "source": [
    "apple.show(5)"
   ]
  },
  {
   "cell_type": "code",
   "execution_count": 6,
   "metadata": {},
   "outputs": [
    {
     "name": "stdout",
     "output_type": "stream",
     "text": [
      "root\n",
      " |-- Date: string (nullable = true)\n",
      " |-- Open: string (nullable = true)\n",
      " |-- High: string (nullable = true)\n",
      " |-- Low: string (nullable = true)\n",
      " |-- Close: string (nullable = true)\n",
      " |-- Adj Close: string (nullable = true)\n",
      " |-- Volume: string (nullable = true)\n",
      "\n"
     ]
    }
   ],
   "source": [
    "apple.printSchema()"
   ]
  },
  {
   "cell_type": "markdown",
   "metadata": {},
   "source": [
    "Cambiamo un po' di tipi."
   ]
  },
  {
   "cell_type": "code",
   "execution_count": 7,
   "metadata": {},
   "outputs": [],
   "source": [
    "data_schema = [StructField('Date',DateType(),nullable = True),\n",
    "               StructField('Open',DoubleType(),nullable = True),\n",
    "               StructField('High',DoubleType(),nullable = True),\n",
    "               StructField('Low',DoubleType(),nullable = True),\n",
    "               StructField('Close',DoubleType(),nullable = True),\n",
    "               StructField('Adj Close',DoubleType(),nullable = True),\n",
    "               StructField('Volume',IntegerType(),nullable = True)]\n",
    "\n",
    "schema = StructType(fields = data_schema)"
   ]
  },
  {
   "cell_type": "code",
   "execution_count": 8,
   "metadata": {},
   "outputs": [],
   "source": [
    "apple = spark.read.csv('5 -  Serie storiche/data/AAPL.csv',header=True,schema = schema)"
   ]
  },
  {
   "cell_type": "code",
   "execution_count": 9,
   "metadata": {},
   "outputs": [
    {
     "name": "stdout",
     "output_type": "stream",
     "text": [
      "+----------+--------+--------+--------+--------+---------+---------+\n",
      "|      Date|    Open|    High|     Low|   Close|Adj Close|   Volume|\n",
      "+----------+--------+--------+--------+--------+---------+---------+\n",
      "|1980-12-12|0.513393|0.515625|0.513393|0.513393| 0.410525|117258400|\n",
      "|1980-12-15|0.488839|0.488839|0.486607|0.486607| 0.389106| 43971200|\n",
      "|1980-12-16|0.453125|0.453125|0.450893|0.450893| 0.360548| 26432000|\n",
      "|1980-12-17|0.462054|0.464286|0.462054|0.462054| 0.369472| 21610400|\n",
      "|1980-12-18|0.475446|0.477679|0.475446|0.475446| 0.380182| 18362400|\n",
      "+----------+--------+--------+--------+--------+---------+---------+\n",
      "only showing top 5 rows\n",
      "\n"
     ]
    }
   ],
   "source": [
    "apple.show(5)"
   ]
  },
  {
   "cell_type": "code",
   "execution_count": 10,
   "metadata": {},
   "outputs": [
    {
     "name": "stdout",
     "output_type": "stream",
     "text": [
      "root\n",
      " |-- Date: date (nullable = true)\n",
      " |-- Open: double (nullable = true)\n",
      " |-- High: double (nullable = true)\n",
      " |-- Low: double (nullable = true)\n",
      " |-- Close: double (nullable = true)\n",
      " |-- Adj Close: double (nullable = true)\n",
      " |-- Volume: integer (nullable = true)\n",
      "\n"
     ]
    }
   ],
   "source": [
    "apple.printSchema()"
   ]
  },
  {
   "cell_type": "markdown",
   "metadata": {},
   "source": [
    "#### Qual è stato il valore massimo raggiunto dal AAPL ? In che data lo ha raggiunto ?"
   ]
  },
  {
   "cell_type": "code",
   "execution_count": 11,
   "metadata": {},
   "outputs": [],
   "source": [
    "from pyspark.sql.functions import count, max, col, year, sum"
   ]
  },
  {
   "cell_type": "code",
   "execution_count": 12,
   "metadata": {},
   "outputs": [
    {
     "name": "stdout",
     "output_type": "stream",
     "text": [
      "+----------+----------+----------+----------+----------+----------+--------+\n",
      "|      Date|      Open|      High|       Low|     Close| Adj Close|  Volume|\n",
      "+----------+----------+----------+----------+----------+----------+--------+\n",
      "|2018-10-03|230.050003|233.470001|229.779999|232.070007| 229.39209|28654800|\n",
      "|2018-10-04|230.779999|232.350006|226.729996|227.990005|225.359177|32042000|\n",
      "|2018-10-02|    227.25|     230.0|226.630005|229.279999|226.634293|24788200|\n",
      "|2018-09-05|228.990005|229.669998|225.100006|226.869995| 224.25209|33333000|\n",
      "|2018-10-01|227.949997|229.419998|226.350006|227.259995|224.637604|23600800|\n",
      "|2018-09-04|228.410004|229.179993|226.630005|228.360001|225.724899|27390100|\n",
      "|2018-08-31|226.509995|228.869995|     226.0|227.630005|225.003342|43340100|\n",
      "|2018-10-05|227.960007|228.410004|220.580002|224.289993|221.701859|33580500|\n",
      "|2018-09-13|223.520004|228.350006|222.570007|226.410004|223.797409|41706400|\n",
      "|2018-08-30|    223.25|228.259995|222.399994|225.029999|222.433319|48793800|\n",
      "+----------+----------+----------+----------+----------+----------+--------+\n",
      "only showing top 10 rows\n",
      "\n"
     ]
    }
   ],
   "source": [
    "apple.sort('High', ascending = False).show(10)"
   ]
  },
  {
   "cell_type": "markdown",
   "metadata": {},
   "source": [
    "Come si vede sopra, il valore massimo è **233.47 $**, raggiunto il **3 ottobre 2018**."
   ]
  },
  {
   "cell_type": "code",
   "execution_count": 13,
   "metadata": {},
   "outputs": [
    {
     "name": "stdout",
     "output_type": "stream",
     "text": [
      "+----------+--------+--------+--------+--------+---------+--------+\n",
      "|      Date|    Open|    High|     Low|   Close|Adj Close|  Volume|\n",
      "+----------+--------+--------+--------+--------+---------+--------+\n",
      "|1981-08-10|    null|    null|    null|    null|     null|    null|\n",
      "|1982-07-08|0.198661|0.198661|0.196429|0.196429|  0.15707|41081600|\n",
      "|1982-07-09|0.203125|0.205357|0.203125|0.203125| 0.162425|32104800|\n",
      "|1982-07-06|0.207589|0.207589|0.205357|0.205357|  0.16421|21924000|\n",
      "|1982-07-07|0.205357|0.207589|0.205357|0.205357|  0.16421| 7593600|\n",
      "|1982-07-12|0.207589|0.209821|0.207589|0.207589| 0.165995|15848000|\n",
      "|1982-07-02|0.216518|0.216518|0.214286|0.214286|  0.17135|14526400|\n",
      "|1982-08-06|0.220982|0.220982| 0.21875| 0.21875| 0.174919|24208800|\n",
      "|1982-07-13|0.220982|0.223214|0.220982|0.220982| 0.176704|28593600|\n",
      "|1982-08-05|0.223214|0.223214|0.220982|0.220982| 0.176704|17438400|\n",
      "+----------+--------+--------+--------+--------+---------+--------+\n",
      "only showing top 10 rows\n",
      "\n"
     ]
    }
   ],
   "source": [
    "apple.sort('Low', ascending = True).show(10)"
   ]
  },
  {
   "cell_type": "markdown",
   "metadata": {},
   "source": [
    "Come si vede sopra, il valore minimo è **0.19 $**, raggiunto l'**8 luglio 1982**."
   ]
  },
  {
   "cell_type": "markdown",
   "metadata": {},
   "source": [
    "#### Qual è stato il valore minimo raggiunto dal AAPL dopo il 2000 ? In che data lo ha raggiunto ?"
   ]
  },
  {
   "cell_type": "code",
   "execution_count": 14,
   "metadata": {},
   "outputs": [
    {
     "name": "stdout",
     "output_type": "stream",
     "text": [
      "+----------+--------+--------+--------+--------+---------+---------+\n",
      "|      Date|    Open|    High|     Low|   Close|Adj Close|   Volume|\n",
      "+----------+--------+--------+--------+--------+---------+---------+\n",
      "|2003-04-17|0.942857|0.946429|0.908571|0.937143| 0.820964|154064400|\n",
      "|2003-04-16|0.927857|0.976429|0.922857|0.945714| 0.828473|254044000|\n",
      "|2003-04-11|1.003571|1.031429|0.923571|0.942857|  0.82597|348177200|\n",
      "|2003-04-21|0.937857|0.942143|0.927143|0.938571| 0.822216| 38080000|\n",
      "|2003-04-24|0.965714|0.972143|0.928571|    0.96| 0.840988| 81277000|\n",
      "|2003-04-22|0.941429|0.972857|   0.935|   0.965| 0.845368| 75142200|\n",
      "|2003-04-25|0.961429|    0.97|   0.945|0.953571| 0.835356| 51329600|\n",
      "|2003-04-15|0.970714|0.971429|    0.95|0.956429| 0.837859| 75992000|\n",
      "|2002-10-08|0.992857|0.997143|0.954286|0.977143| 0.856006|113411200|\n",
      "|2003-04-23|0.966429|0.973571|0.954286|    0.97| 0.849748| 52420200|\n",
      "+----------+--------+--------+--------+--------+---------+---------+\n",
      "only showing top 10 rows\n",
      "\n"
     ]
    }
   ],
   "source": [
    "apple.filter(apple.Date > '2000-01-01').sort('Low', ascending = True).show(10)"
   ]
  },
  {
   "cell_type": "markdown",
   "metadata": {},
   "source": [
    "Il valore minimo di Apple dopo il 2000 è stato raggiunto il **17 aprile 2003**, ed è **0.90 $**."
   ]
  },
  {
   "cell_type": "markdown",
   "metadata": {},
   "source": [
    "#### Qual è la percentuale di giorni in cui il prezzo di chiusura è stato inferiore ai 100 USD ?"
   ]
  },
  {
   "cell_type": "markdown",
   "metadata": {},
   "source": [
    "Numero di giorni in cui il prezzo di chiusura è stato inferiore a 100."
   ]
  },
  {
   "cell_type": "code",
   "execution_count": 15,
   "metadata": {},
   "outputs": [
    {
     "data": {
      "text/plain": [
       "8604"
      ]
     },
     "execution_count": 15,
     "metadata": {},
     "output_type": "execute_result"
    }
   ],
   "source": [
    "apple.filter(apple.Close < 100).count()"
   ]
  },
  {
   "cell_type": "markdown",
   "metadata": {},
   "source": [
    "Numero totale di giorni."
   ]
  },
  {
   "cell_type": "code",
   "execution_count": 16,
   "metadata": {},
   "outputs": [
    {
     "data": {
      "text/plain": [
       "9595"
      ]
     },
     "execution_count": 16,
     "metadata": {},
     "output_type": "execute_result"
    }
   ],
   "source": [
    "apple.count()"
   ]
  },
  {
   "cell_type": "code",
   "execution_count": 17,
   "metadata": {},
   "outputs": [
    {
     "name": "stdout",
     "output_type": "stream",
     "text": [
      "La percentuale di giorni in cui il prezzo di chiusura è stato inferiore a 100$ è  89.67 %\n"
     ]
    }
   ],
   "source": [
    "print('La percentuale di giorni in cui il prezzo di chiusura è stato inferiore a 100$ è ', str(round((8604/9595)*100,2)),'%')"
   ]
  },
  {
   "cell_type": "markdown",
   "metadata": {},
   "source": [
    "#### Qual è la percentuale di giorni dopo il 2014 in cui il prezzo di chiusura è stato inferiore ai 100 USD ?"
   ]
  },
  {
   "cell_type": "markdown",
   "metadata": {},
   "source": [
    "Numero di giorni dopo il 2014 dove il prezzo di chiusura è stato inferiore a 100$."
   ]
  },
  {
   "cell_type": "code",
   "execution_count": 18,
   "metadata": {},
   "outputs": [
    {
     "data": {
      "text/plain": [
       "271"
      ]
     },
     "execution_count": 18,
     "metadata": {},
     "output_type": "execute_result"
    }
   ],
   "source": [
    "apple.filter(\"Date > '2013-12-31' and Close < 100\").count()"
   ]
  },
  {
   "cell_type": "markdown",
   "metadata": {},
   "source": [
    "Numero di giorni dopo il 2014."
   ]
  },
  {
   "cell_type": "code",
   "execution_count": 19,
   "metadata": {},
   "outputs": [
    {
     "data": {
      "text/plain": [
       "1258"
      ]
     },
     "execution_count": 19,
     "metadata": {},
     "output_type": "execute_result"
    }
   ],
   "source": [
    "apple.filter(\"Date > '2013-12-31'\").count()"
   ]
  },
  {
   "cell_type": "code",
   "execution_count": 20,
   "metadata": {},
   "outputs": [
    {
     "name": "stdout",
     "output_type": "stream",
     "text": [
      "La percentuale di giorni dopo il 2014 in cui il prezzo di chiusura è stato inferiore ai 100 USD è  21.54 %\n"
     ]
    }
   ],
   "source": [
    "print('La percentuale di giorni dopo il 2014 in cui il prezzo di chiusura è stato inferiore ai 100 USD è ',str(round((271/1258)*100,2)),'%')"
   ]
  },
  {
   "cell_type": "markdown",
   "metadata": {},
   "source": [
    "#### Visualizza il valore massimo per anno."
   ]
  },
  {
   "cell_type": "markdown",
   "metadata": {},
   "source": [
    "Estraggo l'anno dalla colonna 'Date' e lo inserisco in nuova colonna **'year'**."
   ]
  },
  {
   "cell_type": "code",
   "execution_count": 21,
   "metadata": {},
   "outputs": [],
   "source": [
    "apple = apple.withColumn('year',year(apple['Date']))"
   ]
  },
  {
   "cell_type": "code",
   "execution_count": 22,
   "metadata": {},
   "outputs": [
    {
     "name": "stdout",
     "output_type": "stream",
     "text": [
      "+----------+--------+--------+--------+--------+---------+---------+----+\n",
      "|      Date|    Open|    High|     Low|   Close|Adj Close|   Volume|year|\n",
      "+----------+--------+--------+--------+--------+---------+---------+----+\n",
      "|1980-12-12|0.513393|0.515625|0.513393|0.513393| 0.410525|117258400|1980|\n",
      "|1980-12-15|0.488839|0.488839|0.486607|0.486607| 0.389106| 43971200|1980|\n",
      "|1980-12-16|0.453125|0.453125|0.450893|0.450893| 0.360548| 26432000|1980|\n",
      "|1980-12-17|0.462054|0.464286|0.462054|0.462054| 0.369472| 21610400|1980|\n",
      "|1980-12-18|0.475446|0.477679|0.475446|0.475446| 0.380182| 18362400|1980|\n",
      "+----------+--------+--------+--------+--------+---------+---------+----+\n",
      "only showing top 5 rows\n",
      "\n"
     ]
    }
   ],
   "source": [
    "apple.show(5)"
   ]
  },
  {
   "cell_type": "code",
   "execution_count": 23,
   "metadata": {},
   "outputs": [
    {
     "name": "stdout",
     "output_type": "stream",
     "text": [
      "+----+----------+\n",
      "|year| Max_Value|\n",
      "+----+----------+\n",
      "|2018|233.470001|\n",
      "|2017|177.199997|\n",
      "|2016|118.690002|\n",
      "|2015|134.539993|\n",
      "|2014|    119.75|\n",
      "|2013| 82.162857|\n",
      "|2012|100.724289|\n",
      "|2011| 60.957142|\n",
      "|2010| 46.665714|\n",
      "|2009| 30.564285|\n",
      "|2008| 28.608572|\n",
      "|2007| 28.994286|\n",
      "|2006| 13.308572|\n",
      "|2005|     10.78|\n",
      "|2004|  4.969285|\n",
      "|2003|  1.786429|\n",
      "|2002|  1.869286|\n",
      "|2001|  1.937143|\n",
      "|2000|  5.370536|\n",
      "|1999|  4.214286|\n",
      "|1998|    1.5625|\n",
      "|1997|  1.055804|\n",
      "|1996|  1.267857|\n",
      "|1995|  1.790179|\n",
      "|1994|    1.5625|\n",
      "|1993|  2.330357|\n",
      "|1992|       2.5|\n",
      "|1991|  2.616071|\n",
      "|1990|  1.705357|\n",
      "|1989|  1.799107|\n",
      "+----+----------+\n",
      "only showing top 30 rows\n",
      "\n"
     ]
    }
   ],
   "source": [
    "apple.groupBy('year').agg(max('High').alias('Max_Value')).sort('year',ascending = False).show(30)"
   ]
  },
  {
   "cell_type": "markdown",
   "metadata": {},
   "source": [
    "#### In quale anno sono state scambiate più azioni di Apple (anno con il volume maggiore)."
   ]
  },
  {
   "cell_type": "code",
   "execution_count": 24,
   "metadata": {},
   "outputs": [],
   "source": [
    "apple_years = apple.withColumn('year',year(apple['Date'])).drop('Date')"
   ]
  },
  {
   "cell_type": "code",
   "execution_count": 25,
   "metadata": {},
   "outputs": [
    {
     "name": "stdout",
     "output_type": "stream",
     "text": [
      "+--------+--------+--------+--------+---------+---------+----+\n",
      "|    Open|    High|     Low|   Close|Adj Close|   Volume|year|\n",
      "+--------+--------+--------+--------+---------+---------+----+\n",
      "|0.513393|0.515625|0.513393|0.513393| 0.410525|117258400|1980|\n",
      "|0.488839|0.488839|0.486607|0.486607| 0.389106| 43971200|1980|\n",
      "|0.453125|0.453125|0.450893|0.450893| 0.360548| 26432000|1980|\n",
      "|0.462054|0.464286|0.462054|0.462054| 0.369472| 21610400|1980|\n",
      "|0.475446|0.477679|0.475446|0.475446| 0.380182| 18362400|1980|\n",
      "+--------+--------+--------+--------+---------+---------+----+\n",
      "only showing top 5 rows\n",
      "\n"
     ]
    }
   ],
   "source": [
    "apple_years.show(5)"
   ]
  },
  {
   "cell_type": "code",
   "execution_count": 26,
   "metadata": {},
   "outputs": [
    {
     "name": "stdout",
     "output_type": "stream",
     "text": [
      "+----+-----------------+\n",
      "|year|Total_Year_Volume|\n",
      "+----+-----------------+\n",
      "|2008|      71495301500|\n",
      "|2007|      61748996400|\n",
      "|2006|      53924741500|\n",
      "|2005|      45600245600|\n",
      "|2010|      37756231800|\n",
      "|2009|      35813421700|\n",
      "|1999|      34275676400|\n",
      "|2012|      32991051100|\n",
      "|2011|      31014834900|\n",
      "|2004|      30450417200|\n",
      "|2000|      30075399200|\n",
      "|1998|      28798548800|\n",
      "|2013|      25605392400|\n",
      "|2001|      23664449200|\n",
      "|2002|      19253481800|\n",
      "|1995|      18566634800|\n",
      "|1997|      17990840000|\n",
      "|2003|      17807563200|\n",
      "|2014|      15914488100|\n",
      "|1987|      14942827200|\n",
      "|1991|      14336912800|\n",
      "|1994|      14288974000|\n",
      "|1993|      14113232000|\n",
      "|1986|      13330805600|\n",
      "|1996|      13298555200|\n",
      "|2015|      13066049900|\n",
      "|1989|      12726456400|\n",
      "|1985|      11373068000|\n",
      "|1983|      11128252800|\n",
      "|1990|      11100485200|\n",
      "|1984|      10494758400|\n",
      "|1988|      10323244400|\n",
      "|1992|      10284478400|\n",
      "|2016|       9682477800|\n",
      "|2018|       8539036200|\n",
      "|2017|       6810776500|\n",
      "|1982|       5341252000|\n",
      "|1981|       2049236000|\n",
      "|1980|        336212800|\n",
      "+----+-----------------+\n",
      "\n"
     ]
    }
   ],
   "source": [
    "apple_years.groupBy('year') \\\n",
    ".agg(sum('Volume').alias('Total_Year_Volume')) \\\n",
    ".sort('Total_Year_Volume',ascending = False) \\\n",
    ".show(40)"
   ]
  },
  {
   "cell_type": "markdown",
   "metadata": {},
   "source": [
    "L'anno con il volume maggiore è stato il 2008."
   ]
  }
 ],
 "metadata": {
  "kernelspec": {
   "display_name": "Python 3",
   "language": "python",
   "name": "python3"
  },
  "language_info": {
   "codemirror_mode": {
    "name": "ipython",
    "version": 3
   },
   "file_extension": ".py",
   "mimetype": "text/x-python",
   "name": "python",
   "nbconvert_exporter": "python",
   "pygments_lexer": "ipython3",
   "version": "3.7.9"
  }
 },
 "nbformat": 4,
 "nbformat_minor": 4
}
