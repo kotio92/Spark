{
 "cells": [
  {
   "cell_type": "markdown",
   "metadata": {},
   "source": [
    "# Regressione Logistica con Spark MLlib"
   ]
  },
  {
   "cell_type": "markdown",
   "metadata": {},
   "source": [
    "In questo notebook vedremo come eseguire una semplice classificazione utilizzando un modello di **Regressione Logistica** con il modulo MLlib di Spark. Il modello che andremo ha creare ha lo scopo di identificare tumori al seno maligni da delle informazioni estratte da delle agobiopsie."
   ]
  },
  {
   "cell_type": "markdown",
   "metadata": {},
   "source": [
    "## Importazione delle librerie"
   ]
  },
  {
   "cell_type": "code",
   "execution_count": 1,
   "metadata": {},
   "outputs": [],
   "source": [
    "import os\n",
    "import shutil\n",
    "import pandas as pd"
   ]
  },
  {
   "cell_type": "code",
   "execution_count": 2,
   "metadata": {},
   "outputs": [],
   "source": [
    "from pyspark.sql.functions import *\n",
    "from pyspark.sql.types import *"
   ]
  },
  {
   "cell_type": "code",
   "execution_count": 3,
   "metadata": {},
   "outputs": [],
   "source": [
    "from pyspark.sql.functions import count, max, col, year, sum"
   ]
  },
  {
   "cell_type": "markdown",
   "metadata": {},
   "source": [
    "## Inizializzazione di Spark"
   ]
  },
  {
   "cell_type": "code",
   "execution_count": 4,
   "metadata": {},
   "outputs": [],
   "source": [
    "from pyspark.sql import SparkSession\n",
    "spark = SparkSession.builder.appName('basic').getOrCreate()\n",
    "from pyspark.sql.types import *"
   ]
  },
  {
   "cell_type": "markdown",
   "metadata": {},
   "source": [
    "## Caricamento del dataset"
   ]
  },
  {
   "cell_type": "markdown",
   "metadata": {},
   "source": [
    "Scarico da Kaggle lo .zip contenente il dataset."
   ]
  },
  {
   "cell_type": "code",
   "execution_count": 5,
   "metadata": {},
   "outputs": [
    {
     "name": "stdout",
     "output_type": "stream",
     "text": [
      "breast-cancer-wisconsin-data.zip: Skipping, found more recently modified local copy (use --force to force download)\n"
     ]
    }
   ],
   "source": [
    "!kaggle datasets download uciml/breast-cancer-wisconsin-data"
   ]
  },
  {
   "cell_type": "markdown",
   "metadata": {},
   "source": [
    "Estraggo il dataset dal .zip"
   ]
  },
  {
   "cell_type": "code",
   "execution_count": 6,
   "metadata": {},
   "outputs": [],
   "source": [
    "shutil.unpack_archive('breast-cancer-wisconsin-data.zip') "
   ]
  },
  {
   "cell_type": "markdown",
   "metadata": {},
   "source": [
    "Ora carico il dataset."
   ]
  },
  {
   "cell_type": "code",
   "execution_count": 7,
   "metadata": {},
   "outputs": [],
   "source": [
    "cancer_df = spark.read.csv(\"data.csv\", header = True)"
   ]
  },
  {
   "cell_type": "code",
   "execution_count": 8,
   "metadata": {},
   "outputs": [
    {
     "name": "stdout",
     "output_type": "stream",
     "text": [
      "+------+---------+-----------+------------+--------------+---------+---------------+----------------+--------------+-------------------+-------------+----------------------+---------+----------+------------+-------+-------------+--------------+------------+-----------------+-----------+--------------------+------------+-------------+---------------+----------+----------------+-----------------+---------------+--------------------+--------------+-----------------------+----+\n",
      "|    id|diagnosis|radius_mean|texture_mean|perimeter_mean|area_mean|smoothness_mean|compactness_mean|concavity_mean|concave points_mean|symmetry_mean|fractal_dimension_mean|radius_se|texture_se|perimeter_se|area_se|smoothness_se|compactness_se|concavity_se|concave points_se|symmetry_se|fractal_dimension_se|radius_worst|texture_worst|perimeter_worst|area_worst|smoothness_worst|compactness_worst|concavity_worst|concave points_worst|symmetry_worst|fractal_dimension_worst|_c32|\n",
      "+------+---------+-----------+------------+--------------+---------+---------------+----------------+--------------+-------------------+-------------+----------------------+---------+----------+------------+-------+-------------+--------------+------------+-----------------+-----------+--------------------+------------+-------------+---------------+----------+----------------+-----------------+---------------+--------------------+--------------+-----------------------+----+\n",
      "|842302|        M|      17.99|       10.38|         122.8|     1001|         0.1184|          0.2776|        0.3001|             0.1471|       0.2419|               0.07871|    1.095|    0.9053|       8.589|  153.4|     0.006399|       0.04904|     0.05373|          0.01587|    0.03003|            0.006193|       25.38|        17.33|          184.6|      2019|          0.1622|           0.6656|         0.7119|              0.2654|        0.4601|                 0.1189|null|\n",
      "|842517|        M|      20.57|       17.77|         132.9|     1326|        0.08474|         0.07864|        0.0869|            0.07017|       0.1812|               0.05667|   0.5435|    0.7339|       3.398|  74.08|     0.005225|       0.01308|      0.0186|           0.0134|    0.01389|            0.003532|       24.99|        23.41|          158.8|      1956|          0.1238|           0.1866|         0.2416|               0.186|         0.275|                0.08902|null|\n",
      "+------+---------+-----------+------------+--------------+---------+---------------+----------------+--------------+-------------------+-------------+----------------------+---------+----------+------------+-------+-------------+--------------+------------+-----------------+-----------+--------------------+------------+-------------+---------------+----------+----------------+-----------------+---------------+--------------------+--------------+-----------------------+----+\n",
      "only showing top 2 rows\n",
      "\n"
     ]
    }
   ],
   "source": [
    "cancer_df.show(2)"
   ]
  },
  {
   "cell_type": "code",
   "execution_count": 9,
   "metadata": {},
   "outputs": [
    {
     "name": "stdout",
     "output_type": "stream",
     "text": [
      "Il dataset contiene 33 colonne\n"
     ]
    }
   ],
   "source": [
    "print('Il dataset contiene ' + str(len(cancer_df.columns)) + ' colonne')"
   ]
  },
  {
   "cell_type": "markdown",
   "metadata": {},
   "source": [
    "Il DataFrame ha 31 colonne:\n",
    "\n",
    "* **30 features**: che rappresentano delle proprietà dell'immagine, come raggio, area e perimetro.\n",
    "* **1 target**: che è la colonna **diagnosis**, un valore di 'M' indica un tumore maligno, al contrario un valore di 'B' indica un tumore benigno."
   ]
  },
  {
   "cell_type": "markdown",
   "metadata": {},
   "source": [
    "## Preprocessing dei dati"
   ]
  },
  {
   "cell_type": "code",
   "execution_count": 10,
   "metadata": {},
   "outputs": [
    {
     "data": {
      "text/plain": [
       "569"
      ]
     },
     "execution_count": 10,
     "metadata": {},
     "output_type": "execute_result"
    }
   ],
   "source": [
    "cancer_df.count()"
   ]
  },
  {
   "cell_type": "markdown",
   "metadata": {},
   "source": [
    "### Modifica dello schema"
   ]
  },
  {
   "cell_type": "markdown",
   "metadata": {},
   "source": [
    "Vediamo lo schema."
   ]
  },
  {
   "cell_type": "code",
   "execution_count": 11,
   "metadata": {},
   "outputs": [
    {
     "name": "stdout",
     "output_type": "stream",
     "text": [
      "root\n",
      " |-- id: string (nullable = true)\n",
      " |-- diagnosis: string (nullable = true)\n",
      " |-- radius_mean: string (nullable = true)\n",
      " |-- texture_mean: string (nullable = true)\n",
      " |-- perimeter_mean: string (nullable = true)\n",
      " |-- area_mean: string (nullable = true)\n",
      " |-- smoothness_mean: string (nullable = true)\n",
      " |-- compactness_mean: string (nullable = true)\n",
      " |-- concavity_mean: string (nullable = true)\n",
      " |-- concave points_mean: string (nullable = true)\n",
      " |-- symmetry_mean: string (nullable = true)\n",
      " |-- fractal_dimension_mean: string (nullable = true)\n",
      " |-- radius_se: string (nullable = true)\n",
      " |-- texture_se: string (nullable = true)\n",
      " |-- perimeter_se: string (nullable = true)\n",
      " |-- area_se: string (nullable = true)\n",
      " |-- smoothness_se: string (nullable = true)\n",
      " |-- compactness_se: string (nullable = true)\n",
      " |-- concavity_se: string (nullable = true)\n",
      " |-- concave points_se: string (nullable = true)\n",
      " |-- symmetry_se: string (nullable = true)\n",
      " |-- fractal_dimension_se: string (nullable = true)\n",
      " |-- radius_worst: string (nullable = true)\n",
      " |-- texture_worst: string (nullable = true)\n",
      " |-- perimeter_worst: string (nullable = true)\n",
      " |-- area_worst: string (nullable = true)\n",
      " |-- smoothness_worst: string (nullable = true)\n",
      " |-- compactness_worst: string (nullable = true)\n",
      " |-- concavity_worst: string (nullable = true)\n",
      " |-- concave points_worst: string (nullable = true)\n",
      " |-- symmetry_worst: string (nullable = true)\n",
      " |-- fractal_dimension_worst: string (nullable = true)\n",
      " |-- _c32: string (nullable = true)\n",
      "\n"
     ]
    }
   ],
   "source": [
    "cancer_df.printSchema()"
   ]
  },
  {
   "cell_type": "markdown",
   "metadata": {},
   "source": [
    "Modifichiamo lo schema."
   ]
  },
  {
   "cell_type": "code",
   "execution_count": 12,
   "metadata": {},
   "outputs": [],
   "source": [
    "data_schema = [StructField('id', IntegerType()),\n",
    "               StructField('diagnosis', StringType()),\n",
    "               StructField('radius_mean', FloatType()),\n",
    "               StructField('texture_mean', FloatType()),\n",
    "               StructField('perimeter_mean', FloatType()),\n",
    "               StructField('area_mean', FloatType()),\n",
    "               StructField('smoothness_mean', FloatType()),\n",
    "               StructField('compactness_mean', FloatType()),\n",
    "               StructField('concavity_mean', FloatType()),\n",
    "               StructField('concave points_mean', FloatType()),\n",
    "               StructField('symmetry_mean', FloatType()),\n",
    "               StructField('fractal_dimension_mean', FloatType()),\n",
    "               StructField('radius_se', FloatType()),\n",
    "               StructField('texture_se', FloatType()),\n",
    "               StructField('perimeter_se', FloatType()),\n",
    "               StructField('area_se', FloatType()),\n",
    "               StructField('smoothness_se', FloatType()),\n",
    "               StructField('compactness_se', FloatType()),\n",
    "               StructField('concavity_se', FloatType()),\n",
    "               StructField('concave points_se', FloatType()),\n",
    "               StructField('symmetry_se', FloatType()),\n",
    "               StructField('fractal_dimension_se', FloatType()),\n",
    "               StructField('radius_worst', FloatType()),\n",
    "               StructField('texture_worst', FloatType()),\n",
    "               StructField('perimeter_worst', FloatType()),\n",
    "               StructField('area_worst', FloatType()),\n",
    "               StructField('smoothness_worst', FloatType()),\n",
    "               StructField('compactness_worst', FloatType()),\n",
    "               StructField('concavity_worst', FloatType()),\n",
    "               StructField('concave points_worst', FloatType()),\n",
    "               StructField('symmetry_worst', FloatType()),\n",
    "               StructField('fractal_dimension_worst', FloatType())\n",
    "               ]\n",
    "\n",
    "schema = StructType(fields = data_schema)"
   ]
  },
  {
   "cell_type": "code",
   "execution_count": 13,
   "metadata": {},
   "outputs": [],
   "source": [
    "cancer_df = spark.read.csv(\"data.csv\", header = True, schema = schema)"
   ]
  },
  {
   "cell_type": "code",
   "execution_count": 14,
   "metadata": {},
   "outputs": [
    {
     "name": "stdout",
     "output_type": "stream",
     "text": [
      "+------+---------+-----------+------------+--------------+---------+---------------+----------------+--------------+-------------------+-------------+----------------------+---------+----------+------------+-------+-------------+--------------+------------+-----------------+-----------+--------------------+------------+-------------+---------------+----------+----------------+-----------------+---------------+--------------------+--------------+-----------------------+\n",
      "|    id|diagnosis|radius_mean|texture_mean|perimeter_mean|area_mean|smoothness_mean|compactness_mean|concavity_mean|concave points_mean|symmetry_mean|fractal_dimension_mean|radius_se|texture_se|perimeter_se|area_se|smoothness_se|compactness_se|concavity_se|concave points_se|symmetry_se|fractal_dimension_se|radius_worst|texture_worst|perimeter_worst|area_worst|smoothness_worst|compactness_worst|concavity_worst|concave points_worst|symmetry_worst|fractal_dimension_worst|\n",
      "+------+---------+-----------+------------+--------------+---------+---------------+----------------+--------------+-------------------+-------------+----------------------+---------+----------+------------+-------+-------------+--------------+------------+-----------------+-----------+--------------------+------------+-------------+---------------+----------+----------------+-----------------+---------------+--------------------+--------------+-----------------------+\n",
      "|842302|        M|      17.99|       10.38|         122.8|   1001.0|         0.1184|          0.2776|        0.3001|             0.1471|       0.2419|               0.07871|    1.095|    0.9053|       8.589|  153.4|     0.006399|       0.04904|     0.05373|          0.01587|    0.03003|            0.006193|       25.38|        17.33|          184.6|    2019.0|          0.1622|           0.6656|         0.7119|              0.2654|        0.4601|                 0.1189|\n",
      "|842517|        M|      20.57|       17.77|         132.9|   1326.0|        0.08474|         0.07864|        0.0869|            0.07017|       0.1812|               0.05667|   0.5435|    0.7339|       3.398|  74.08|     0.005225|       0.01308|      0.0186|           0.0134|    0.01389|            0.003532|       24.99|        23.41|          158.8|    1956.0|          0.1238|           0.1866|         0.2416|               0.186|         0.275|                0.08902|\n",
      "+------+---------+-----------+------------+--------------+---------+---------------+----------------+--------------+-------------------+-------------+----------------------+---------+----------+------------+-------+-------------+--------------+------------+-----------------+-----------+--------------------+------------+-------------+---------------+----------+----------------+-----------------+---------------+--------------------+--------------+-----------------------+\n",
      "only showing top 2 rows\n",
      "\n"
     ]
    }
   ],
   "source": [
    "cancer_df.show(2)"
   ]
  },
  {
   "cell_type": "markdown",
   "metadata": {},
   "source": [
    "Dal dataset si nota che la variabile traget, **diagnosis**, può assumere solo due valori."
   ]
  },
  {
   "cell_type": "code",
   "execution_count": 15,
   "metadata": {},
   "outputs": [
    {
     "name": "stdout",
     "output_type": "stream",
     "text": [
      "+---------+----------------+\n",
      "|diagnosis|count(diagnosis)|\n",
      "+---------+----------------+\n",
      "|        B|             357|\n",
      "|        M|             212|\n",
      "+---------+----------------+\n",
      "\n"
     ]
    }
   ],
   "source": [
    "cancer_df.groupBy('diagnosis').agg({'diagnosis':'count'}).show()"
   ]
  },
  {
   "cell_type": "markdown",
   "metadata": {},
   "source": [
    "* **B**: diagnosi di tumore benigno\n",
    "* **M**: diagnosi di tumore maligno"
   ]
  },
  {
   "cell_type": "markdown",
   "metadata": {},
   "source": [
    "Andiamo a convertire questa categoria in una variabile binaria."
   ]
  },
  {
   "cell_type": "markdown",
   "metadata": {},
   "source": [
    "* **B** --> **0**\n",
    "* **M** --> **1**"
   ]
  },
  {
   "cell_type": "code",
   "execution_count": 16,
   "metadata": {},
   "outputs": [],
   "source": [
    "cancer_df = cancer_df.withColumn('diagnosis', regexp_replace('diagnosis', 'M', '1'))\n",
    "cancer_df = cancer_df.withColumn('diagnosis', regexp_replace('diagnosis', 'B', '0'))"
   ]
  },
  {
   "cell_type": "code",
   "execution_count": 17,
   "metadata": {},
   "outputs": [],
   "source": [
    "from pyspark.sql.types import IntegerType\n",
    "\n",
    "cancer_df = cancer_df.withColumn(\"diagnosis\", cancer_df[\"diagnosis\"].cast(IntegerType()))"
   ]
  },
  {
   "cell_type": "code",
   "execution_count": 18,
   "metadata": {},
   "outputs": [
    {
     "name": "stdout",
     "output_type": "stream",
     "text": [
      "+------+---------+-----------+------------+--------------+---------+---------------+----------------+--------------+-------------------+-------------+----------------------+---------+----------+------------+-------+-------------+--------------+------------+-----------------+-----------+--------------------+------------+-------------+---------------+----------+----------------+-----------------+---------------+--------------------+--------------+-----------------------+\n",
      "|    id|diagnosis|radius_mean|texture_mean|perimeter_mean|area_mean|smoothness_mean|compactness_mean|concavity_mean|concave points_mean|symmetry_mean|fractal_dimension_mean|radius_se|texture_se|perimeter_se|area_se|smoothness_se|compactness_se|concavity_se|concave points_se|symmetry_se|fractal_dimension_se|radius_worst|texture_worst|perimeter_worst|area_worst|smoothness_worst|compactness_worst|concavity_worst|concave points_worst|symmetry_worst|fractal_dimension_worst|\n",
      "+------+---------+-----------+------------+--------------+---------+---------------+----------------+--------------+-------------------+-------------+----------------------+---------+----------+------------+-------+-------------+--------------+------------+-----------------+-----------+--------------------+------------+-------------+---------------+----------+----------------+-----------------+---------------+--------------------+--------------+-----------------------+\n",
      "|842302|        1|      17.99|       10.38|         122.8|   1001.0|         0.1184|          0.2776|        0.3001|             0.1471|       0.2419|               0.07871|    1.095|    0.9053|       8.589|  153.4|     0.006399|       0.04904|     0.05373|          0.01587|    0.03003|            0.006193|       25.38|        17.33|          184.6|    2019.0|          0.1622|           0.6656|         0.7119|              0.2654|        0.4601|                 0.1189|\n",
      "|842517|        1|      20.57|       17.77|         132.9|   1326.0|        0.08474|         0.07864|        0.0869|            0.07017|       0.1812|               0.05667|   0.5435|    0.7339|       3.398|  74.08|     0.005225|       0.01308|      0.0186|           0.0134|    0.01389|            0.003532|       24.99|        23.41|          158.8|    1956.0|          0.1238|           0.1866|         0.2416|               0.186|         0.275|                0.08902|\n",
      "+------+---------+-----------+------------+--------------+---------+---------------+----------------+--------------+-------------------+-------------+----------------------+---------+----------+------------+-------+-------------+--------------+------------+-----------------+-----------+--------------------+------------+-------------+---------------+----------+----------------+-----------------+---------------+--------------------+--------------+-----------------------+\n",
      "only showing top 2 rows\n",
      "\n"
     ]
    }
   ],
   "source": [
    "cancer_df.show(2)"
   ]
  },
  {
   "cell_type": "code",
   "execution_count": 19,
   "metadata": {},
   "outputs": [
    {
     "name": "stdout",
     "output_type": "stream",
     "text": [
      "root\n",
      " |-- id: integer (nullable = true)\n",
      " |-- diagnosis: integer (nullable = true)\n",
      " |-- radius_mean: float (nullable = true)\n",
      " |-- texture_mean: float (nullable = true)\n",
      " |-- perimeter_mean: float (nullable = true)\n",
      " |-- area_mean: float (nullable = true)\n",
      " |-- smoothness_mean: float (nullable = true)\n",
      " |-- compactness_mean: float (nullable = true)\n",
      " |-- concavity_mean: float (nullable = true)\n",
      " |-- concave points_mean: float (nullable = true)\n",
      " |-- symmetry_mean: float (nullable = true)\n",
      " |-- fractal_dimension_mean: float (nullable = true)\n",
      " |-- radius_se: float (nullable = true)\n",
      " |-- texture_se: float (nullable = true)\n",
      " |-- perimeter_se: float (nullable = true)\n",
      " |-- area_se: float (nullable = true)\n",
      " |-- smoothness_se: float (nullable = true)\n",
      " |-- compactness_se: float (nullable = true)\n",
      " |-- concavity_se: float (nullable = true)\n",
      " |-- concave points_se: float (nullable = true)\n",
      " |-- symmetry_se: float (nullable = true)\n",
      " |-- fractal_dimension_se: float (nullable = true)\n",
      " |-- radius_worst: float (nullable = true)\n",
      " |-- texture_worst: float (nullable = true)\n",
      " |-- perimeter_worst: float (nullable = true)\n",
      " |-- area_worst: float (nullable = true)\n",
      " |-- smoothness_worst: float (nullable = true)\n",
      " |-- compactness_worst: float (nullable = true)\n",
      " |-- concavity_worst: float (nullable = true)\n",
      " |-- concave points_worst: float (nullable = true)\n",
      " |-- symmetry_worst: float (nullable = true)\n",
      " |-- fractal_dimension_worst: float (nullable = true)\n",
      "\n"
     ]
    }
   ],
   "source": [
    "cancer_df.printSchema()"
   ]
  },
  {
   "cell_type": "markdown",
   "metadata": {},
   "source": [
    "### Valori nulli"
   ]
  },
  {
   "cell_type": "markdown",
   "metadata": {},
   "source": [
    "Innanziutto verifichiamo la presenza di valori nulli"
   ]
  },
  {
   "cell_type": "code",
   "execution_count": 20,
   "metadata": {},
   "outputs": [
    {
     "data": {
      "text/plain": [
       "0"
      ]
     },
     "execution_count": 20,
     "metadata": {},
     "output_type": "execute_result"
    }
   ],
   "source": [
    "cancer_df.filter(cancer_df[\"id\"].isNull() | \\\n",
    "                  cancer_df[\"diagnosis\"].isNull() | \\\n",
    "                  cancer_df[\"radius_mean\"].isNull() | \\\n",
    "                  cancer_df[\"texture_mean\"].isNull() | \\\n",
    "                  cancer_df[\"perimeter_mean\"].isNull() | \\\n",
    "                  cancer_df[\"area_mean\"].isNull() | \\\n",
    "                  cancer_df[\"smoothness_mean\"].isNull() | \\\n",
    "                  cancer_df[\"compactness_mean\"].isNull() | \\\n",
    "                  cancer_df[\"concavity_mean\"].isNull() | \\\n",
    "                  cancer_df[\"concave points_mean\"].isNull() | \\\n",
    "                  cancer_df[\"symmetry_mean\"].isNull() | \\\n",
    "                  cancer_df[\"fractal_dimension_mean\"].isNull() | \\\n",
    "                  cancer_df[\"radius_se\"].isNull() | \\\n",
    "                  cancer_df[\"texture_se\"].isNull() | \\\n",
    "                  cancer_df[\"perimeter_se\"].isNull() | \\\n",
    "                  cancer_df[\"area_se\"].isNull() | \\\n",
    "                  cancer_df[\"smoothness_se\"].isNull() | \\\n",
    "                  cancer_df[\"compactness_se\"].isNull() | \\\n",
    "                  cancer_df[\"concavity_se\"].isNull() | \\\n",
    "                  cancer_df[\"concave points_se\"].isNull() | \\\n",
    "                  cancer_df[\"symmetry_se\"].isNull() | \\\n",
    "                  cancer_df[\"fractal_dimension_se\"].isNull() | \\\n",
    "                  cancer_df[\"radius_worst\"].isNull() | \\\n",
    "                  cancer_df[\"texture_worst\"].isNull() | \\\n",
    "                  cancer_df[\"perimeter_worst\"].isNull() | \\\n",
    "                  cancer_df[\"area_worst\"].isNull() | \\\n",
    "                  cancer_df[\"smoothness_worst\"].isNull() | \\\n",
    "                  cancer_df[\"compactness_worst\"].isNull() | \\\n",
    "                  cancer_df[\"concavity_worst\"].isNull() | \\\n",
    "                  cancer_df[\"concave points_worst\"].isNull() | \\\n",
    "                  cancer_df[\"symmetry_worst\"].isNull() | \\\n",
    "                  cancer_df[\"fractal_dimension_worst\"].isNull() \\\n",
    "                  ).count()"
   ]
  },
  {
   "cell_type": "markdown",
   "metadata": {},
   "source": [
    "Non ci sono valori nulli nel nostro dataset."
   ]
  },
  {
   "cell_type": "markdown",
   "metadata": {},
   "source": [
    "### VectorAssembler"
   ]
  },
  {
   "cell_type": "markdown",
   "metadata": {},
   "source": [
    "La classe MLlib richiede che le features si trovino tutte all'interno di un unico vettore su di una colonna, possiamo creare questa rappresentazione utilizzando la classe **VectorAssemlber** di MLlib."
   ]
  },
  {
   "cell_type": "code",
   "execution_count": 21,
   "metadata": {},
   "outputs": [],
   "source": [
    "from pyspark.ml.feature import VectorAssembler"
   ]
  },
  {
   "cell_type": "markdown",
   "metadata": {},
   "source": [
    "Genero una lista con i nomi delle colonne che saranno le features del nostro modello, cioè tutte le colonne meno il target (diagnosis)."
   ]
  },
  {
   "cell_type": "code",
   "execution_count": 22,
   "metadata": {},
   "outputs": [],
   "source": [
    "columns = cancer_df.columns\n",
    "columns.remove('diagnosis')\n",
    "columns.remove('id')"
   ]
  },
  {
   "cell_type": "code",
   "execution_count": 23,
   "metadata": {
    "scrolled": true
   },
   "outputs": [
    {
     "data": {
      "text/plain": [
       "['radius_mean',\n",
       " 'texture_mean',\n",
       " 'perimeter_mean',\n",
       " 'area_mean',\n",
       " 'smoothness_mean',\n",
       " 'compactness_mean',\n",
       " 'concavity_mean',\n",
       " 'concave points_mean',\n",
       " 'symmetry_mean',\n",
       " 'fractal_dimension_mean',\n",
       " 'radius_se',\n",
       " 'texture_se',\n",
       " 'perimeter_se',\n",
       " 'area_se',\n",
       " 'smoothness_se',\n",
       " 'compactness_se',\n",
       " 'concavity_se',\n",
       " 'concave points_se',\n",
       " 'symmetry_se',\n",
       " 'fractal_dimension_se',\n",
       " 'radius_worst',\n",
       " 'texture_worst',\n",
       " 'perimeter_worst',\n",
       " 'area_worst',\n",
       " 'smoothness_worst',\n",
       " 'compactness_worst',\n",
       " 'concavity_worst',\n",
       " 'concave points_worst',\n",
       " 'symmetry_worst',\n",
       " 'fractal_dimension_worst']"
      ]
     },
     "execution_count": 23,
     "metadata": {},
     "output_type": "execute_result"
    }
   ],
   "source": [
    "columns"
   ]
  },
  {
   "cell_type": "code",
   "execution_count": 24,
   "metadata": {},
   "outputs": [],
   "source": [
    "assembler = VectorAssembler(inputCols=columns,outputCol='features')"
   ]
  },
  {
   "cell_type": "code",
   "execution_count": 25,
   "metadata": {},
   "outputs": [],
   "source": [
    "cancer_df = assembler.transform(cancer_df)"
   ]
  },
  {
   "cell_type": "code",
   "execution_count": 26,
   "metadata": {
    "scrolled": true
   },
   "outputs": [
    {
     "name": "stdout",
     "output_type": "stream",
     "text": [
      "+------+---------+-----------+------------+--------------+---------+---------------+----------------+--------------+-------------------+-------------+----------------------+---------+----------+------------+-------+-------------+--------------+------------+-----------------+-----------+--------------------+------------+-------------+---------------+----------+----------------+-----------------+---------------+--------------------+--------------+-----------------------+--------------------+\n",
      "|    id|diagnosis|radius_mean|texture_mean|perimeter_mean|area_mean|smoothness_mean|compactness_mean|concavity_mean|concave points_mean|symmetry_mean|fractal_dimension_mean|radius_se|texture_se|perimeter_se|area_se|smoothness_se|compactness_se|concavity_se|concave points_se|symmetry_se|fractal_dimension_se|radius_worst|texture_worst|perimeter_worst|area_worst|smoothness_worst|compactness_worst|concavity_worst|concave points_worst|symmetry_worst|fractal_dimension_worst|            features|\n",
      "+------+---------+-----------+------------+--------------+---------+---------------+----------------+--------------+-------------------+-------------+----------------------+---------+----------+------------+-------+-------------+--------------+------------+-----------------+-----------+--------------------+------------+-------------+---------------+----------+----------------+-----------------+---------------+--------------------+--------------+-----------------------+--------------------+\n",
      "|842302|        1|      17.99|       10.38|         122.8|   1001.0|         0.1184|          0.2776|        0.3001|             0.1471|       0.2419|               0.07871|    1.095|    0.9053|       8.589|  153.4|     0.006399|       0.04904|     0.05373|          0.01587|    0.03003|            0.006193|       25.38|        17.33|          184.6|    2019.0|          0.1622|           0.6656|         0.7119|              0.2654|        0.4601|                 0.1189|[17.9899997711181...|\n",
      "|842517|        1|      20.57|       17.77|         132.9|   1326.0|        0.08474|         0.07864|        0.0869|            0.07017|       0.1812|               0.05667|   0.5435|    0.7339|       3.398|  74.08|     0.005225|       0.01308|      0.0186|           0.0134|    0.01389|            0.003532|       24.99|        23.41|          158.8|    1956.0|          0.1238|           0.1866|         0.2416|               0.186|         0.275|                0.08902|[20.5699996948242...|\n",
      "+------+---------+-----------+------------+--------------+---------+---------------+----------------+--------------+-------------------+-------------+----------------------+---------+----------+------------+-------+-------------+--------------+------------+-----------------+-----------+--------------------+------------+-------------+---------------+----------+----------------+-----------------+---------------+--------------------+--------------+-----------------------+--------------------+\n",
      "only showing top 2 rows\n",
      "\n"
     ]
    }
   ],
   "source": [
    "cancer_df.show(2)"
   ]
  },
  {
   "cell_type": "markdown",
   "metadata": {},
   "source": [
    "### Standardizzazione"
   ]
  },
  {
   "cell_type": "markdown",
   "metadata": {},
   "source": [
    "E' buona norma portare le features in un range di valori comuni. Facciamolo tramite la standardizzazione che ci permette di contenere le varie colonne all'interno di una distribuzione normale standard, cioè una distribuzione con media 0 e deviazione standard 1. Possiamo eseguire la standardizzazione usando la classe StandardScaler di MLlib."
   ]
  },
  {
   "cell_type": "code",
   "execution_count": 27,
   "metadata": {},
   "outputs": [],
   "source": [
    "from pyspark.ml.feature import StandardScaler"
   ]
  },
  {
   "cell_type": "code",
   "execution_count": 28,
   "metadata": {},
   "outputs": [],
   "source": [
    "ss = StandardScaler(inputCol='features', outputCol='scaled_features')"
   ]
  },
  {
   "cell_type": "code",
   "execution_count": 29,
   "metadata": {},
   "outputs": [],
   "source": [
    "ss = ss.fit(cancer_df)"
   ]
  },
  {
   "cell_type": "code",
   "execution_count": 30,
   "metadata": {},
   "outputs": [],
   "source": [
    "cancer_df = ss.transform(cancer_df)"
   ]
  },
  {
   "cell_type": "code",
   "execution_count": 31,
   "metadata": {},
   "outputs": [
    {
     "name": "stdout",
     "output_type": "stream",
     "text": [
      "+--------+---------+-----------+------------+--------------+---------+---------------+----------------+--------------+-------------------+-------------+----------------------+---------+----------+------------+-------+-------------+--------------+------------+-----------------+-----------+--------------------+------------+-------------+---------------+----------+----------------+-----------------+---------------+--------------------+--------------+-----------------------+--------------------+--------------------+\n",
      "|      id|diagnosis|radius_mean|texture_mean|perimeter_mean|area_mean|smoothness_mean|compactness_mean|concavity_mean|concave points_mean|symmetry_mean|fractal_dimension_mean|radius_se|texture_se|perimeter_se|area_se|smoothness_se|compactness_se|concavity_se|concave points_se|symmetry_se|fractal_dimension_se|radius_worst|texture_worst|perimeter_worst|area_worst|smoothness_worst|compactness_worst|concavity_worst|concave points_worst|symmetry_worst|fractal_dimension_worst|            features|     scaled_features|\n",
      "+--------+---------+-----------+------------+--------------+---------+---------------+----------------+--------------+-------------------+-------------+----------------------+---------+----------+------------+-------+-------------+--------------+------------+-----------------+-----------+--------------------+------------+-------------+---------------+----------+----------------+-----------------+---------------+--------------------+--------------+-----------------------+--------------------+--------------------+\n",
      "|  842302|        1|      17.99|       10.38|         122.8|   1001.0|         0.1184|          0.2776|        0.3001|             0.1471|       0.2419|               0.07871|    1.095|    0.9053|       8.589|  153.4|     0.006399|       0.04904|     0.05373|          0.01587|    0.03003|            0.006193|       25.38|        17.33|          184.6|    2019.0|          0.1622|           0.6656|         0.7119|              0.2654|        0.4601|                 0.1189|[17.9899997711181...|[5.10492354842578...|\n",
      "|  842517|        1|      20.57|       17.77|         132.9|   1326.0|        0.08474|         0.07864|        0.0869|            0.07017|       0.1812|               0.05667|   0.5435|    0.7339|       3.398|  74.08|     0.005225|       0.01308|      0.0186|           0.0134|    0.01389|            0.003532|       24.99|        23.41|          158.8|    1956.0|          0.1238|           0.1866|         0.2416|               0.186|         0.275|                0.08902|[20.5699996948242...|[5.83703597383050...|\n",
      "|84300903|        1|      19.69|       21.25|         130.0|   1203.0|         0.1096|          0.1599|        0.1974|             0.1279|       0.2069|               0.05999|   0.7456|    0.7869|       4.585|  94.03|      0.00615|       0.04006|     0.03832|          0.02058|     0.0225|            0.004571|       23.57|        25.53|          152.5|    1709.0|          0.1444|           0.4245|         0.4504|               0.243|        0.3613|                0.08758|[19.6900005340576...|[5.58732343933651...|\n",
      "|84348301|        1|      11.42|       20.38|         77.58|    386.1|         0.1425|          0.2839|        0.2414|             0.1052|       0.2597|               0.09744|   0.4956|     1.156|       3.445|  27.23|      0.00911|       0.07458|     0.05661|          0.01867|    0.05963|            0.009208|       14.91|         26.5|          98.87|     567.7|          0.2098|           0.8663|         0.6869|              0.2575|        0.6638|                  0.173|[11.4200000762939...|[3.24059077566479...|\n",
      "|84358402|        1|      20.29|       14.34|         135.1|   1297.0|         0.1003|          0.1328|         0.198|             0.1043|       0.1809|               0.05883|   0.7572|    0.7813|       5.438|  94.44|      0.01149|       0.02461|     0.05688|          0.01885|    0.01756|            0.005115|       22.54|        16.67|          152.2|    1575.0|          0.1374|            0.205|            0.4|              0.1625|        0.2364|                0.07678|[20.2900009155273...|[5.75758225620134...|\n",
      "+--------+---------+-----------+------------+--------------+---------+---------------+----------------+--------------+-------------------+-------------+----------------------+---------+----------+------------+-------+-------------+--------------+------------+-----------------+-----------+--------------------+------------+-------------+---------------+----------+----------------+-----------------+---------------+--------------------+--------------+-----------------------+--------------------+--------------------+\n",
      "only showing top 5 rows\n",
      "\n"
     ]
    }
   ],
   "source": [
    "cancer_df.show(5)"
   ]
  },
  {
   "cell_type": "markdown",
   "metadata": {},
   "source": [
    "### Train set e Test set"
   ]
  },
  {
   "cell_type": "markdown",
   "metadata": {},
   "source": [
    "Ora possiamo creare i DataFrame per addestramento e test tramite il metodo **RandomSplit**. Assegnamo il 70% degli esempi al set di addestramento e il 30% al set di test."
   ]
  },
  {
   "cell_type": "code",
   "execution_count": 32,
   "metadata": {},
   "outputs": [],
   "source": [
    "train_df, test_df = cancer_df.randomSplit([0.7, 0.3])"
   ]
  },
  {
   "cell_type": "code",
   "execution_count": 33,
   "metadata": {},
   "outputs": [
    {
     "name": "stdout",
     "output_type": "stream",
     "text": [
      "394 esempi nel train set\n",
      "175 esempi nel test set\n"
     ]
    }
   ],
   "source": [
    "print(\"%d esempi nel train set\" % train_df.count())\n",
    "print(\"%d esempi nel test set\" % test_df.count())"
   ]
  },
  {
   "cell_type": "markdown",
   "metadata": {},
   "source": [
    "## Regressione Logistica"
   ]
  },
  {
   "cell_type": "markdown",
   "metadata": {},
   "source": [
    "Ora possiamo creare il modello di Regressione Logistica, usiamo la classe **LogisticRegression**, all'interno del costruttore dovremo passare due parametri:\n",
    "\n",
    "* **featuresCol**: il nome della colonna con le features\n",
    "* **labelCol**: il nome della colonna con il target"
   ]
  },
  {
   "cell_type": "code",
   "execution_count": 34,
   "metadata": {},
   "outputs": [],
   "source": [
    "from pyspark.ml.classification import LogisticRegression\n",
    "\n",
    "lr = LogisticRegression(featuresCol=\"scaled_features\", labelCol=\"diagnosis\")"
   ]
  },
  {
   "cell_type": "markdown",
   "metadata": {},
   "source": [
    "Avviamo l'addestramento con il metodo fit, passando al suo interno il set di addetramento"
   ]
  },
  {
   "cell_type": "code",
   "execution_count": 35,
   "metadata": {},
   "outputs": [],
   "source": [
    "lr = lr.fit(train_df)"
   ]
  },
  {
   "cell_type": "markdown",
   "metadata": {},
   "source": [
    "## Valutazione del modello"
   ]
  },
  {
   "cell_type": "markdown",
   "metadata": {},
   "source": [
    "Ora verifichiamone la qualità del modello generato."
   ]
  },
  {
   "cell_type": "markdown",
   "metadata": {},
   "source": [
    "Ora verifichiamone la qualità del modello testandolo sul test set."
   ]
  },
  {
   "cell_type": "code",
   "execution_count": 36,
   "metadata": {},
   "outputs": [],
   "source": [
    "evaluation = lr.evaluate(test_df)"
   ]
  },
  {
   "cell_type": "markdown",
   "metadata": {},
   "source": [
    "Il metodo **evaluate** calcolerà diverse metriche che ci possono aiutare a comprendere la qualità del modello, vediamone alcune."
   ]
  },
  {
   "cell_type": "markdown",
   "metadata": {},
   "source": [
    "### Accuracy"
   ]
  },
  {
   "cell_type": "markdown",
   "metadata": {},
   "source": [
    "L'**accuracy** indica semplicemente la percentuale di classificazioni che il nostro modello ha eseguito correttamente."
   ]
  },
  {
   "cell_type": "code",
   "execution_count": 37,
   "metadata": {},
   "outputs": [
    {
     "name": "stdout",
     "output_type": "stream",
     "text": [
      "Accuracy: 0.9714285714285714\n"
     ]
    }
   ],
   "source": [
    "print('Accuracy: ' + str(evaluation.accuracy))"
   ]
  },
  {
   "cell_type": "markdown",
   "metadata": {},
   "source": [
    "### Precision"
   ]
  },
  {
   "cell_type": "markdown",
   "metadata": {},
   "source": [
    "La **precision** ci dice, tra le classificazioni eseguite per una data classe, quante sono effettivamente appartenenti a quella classe."
   ]
  },
  {
   "cell_type": "code",
   "execution_count": 38,
   "metadata": {
    "scrolled": true
   },
   "outputs": [
    {
     "name": "stdout",
     "output_type": "stream",
     "text": [
      "Precision: [0.9736842105263158, 0.9672131147540983]\n"
     ]
    }
   ],
   "source": [
    "print('Precision: ' + str(evaluation.precisionByLabel))"
   ]
  },
  {
   "cell_type": "markdown",
   "metadata": {},
   "source": [
    "### Recall"
   ]
  },
  {
   "cell_type": "markdown",
   "metadata": {},
   "source": [
    "Il **recall** ci dice quanti dei casi positivi il modello è riuscito a classificare correttamente."
   ]
  },
  {
   "cell_type": "code",
   "execution_count": 39,
   "metadata": {
    "scrolled": true
   },
   "outputs": [
    {
     "name": "stdout",
     "output_type": "stream",
     "text": [
      "Recall: [0.9823008849557522, 0.9516129032258065]\n"
     ]
    }
   ],
   "source": [
    "print('Recall: ' + str(evaluation.recallByLabel))"
   ]
  },
  {
   "cell_type": "markdown",
   "metadata": {},
   "source": [
    "## Testing del modello"
   ]
  },
  {
   "cell_type": "markdown",
   "metadata": {},
   "source": [
    "Ora che abbiamo addestrato e validato il nostro modello, testiamolo su nuovi dati. Una clinica ci invia un file CSV contenente i risultati dell'agobiopsia per 6 pazienti che hanno in cura, dobbiamo utilizzare il nostro modello per identificare eventuali tumori maligni. Scarichiamo il CSV"
   ]
  },
  {
   "cell_type": "code",
   "execution_count": 40,
   "metadata": {},
   "outputs": [
    {
     "name": "stderr",
     "output_type": "stream",
     "text": [
      "--2021-01-27 22:48:31--  https://raw.githubusercontent.com/ProfAI/bigdata/master/7%20-%20Machine%20Learning%20Supervisionato%20-%20Classificazione/data/exam_results.csv\n",
      "Resolving raw.githubusercontent.com (raw.githubusercontent.com)... 199.232.80.133\n",
      "Connecting to raw.githubusercontent.com (raw.githubusercontent.com)|199.232.80.133|:443... connected.\n",
      "WARNING: cannot verify raw.githubusercontent.com's certificate, issued by 'CN=Kaspersky Anti-Virus Personal Root Certificate,O=AO Kaspersky Lab':\n",
      "  Self-signed certificate encountered.\n",
      "HTTP request sent, awaiting response... 200 OK\n",
      "Length: 1178 (1.2K) [text/plain]\n",
      "Saving to: 'exam_results.csv.1'\n",
      "\n",
      "     0K .                                                     100% 4.21M=0s\n",
      "\n",
      "2021-01-27 22:48:31 (4.21 MB/s) - 'exam_results.csv.1' saved [1178/1178]\n",
      "\n"
     ]
    }
   ],
   "source": [
    "!wget --no-check-certificate https://raw.githubusercontent.com/ProfAI/bigdata/master/7%20-%20Machine%20Learning%20Supervisionato%20-%20Classificazione/data/exam_results.csv"
   ]
  },
  {
   "cell_type": "markdown",
   "metadata": {},
   "source": [
    "#### Caricamento del dataset"
   ]
  },
  {
   "cell_type": "code",
   "execution_count": 41,
   "metadata": {},
   "outputs": [],
   "source": [
    "dataset = spark.read.csv('exam_results.csv', header=True)"
   ]
  },
  {
   "cell_type": "code",
   "execution_count": 42,
   "metadata": {},
   "outputs": [
    {
     "name": "stdout",
     "output_type": "stream",
     "text": [
      "+------+-----------+------------+--------------+---------+---------------+----------------+--------------+-------------------+-------------+----------------------+---------+----------+------------+-------+-------------+--------------+------------+-----------------+-----------+--------------------+------------+-------------+---------------+----------+----------------+-----------------+---------------+--------------------+--------------+-----------------------+\n",
      "|    id|radius_mean|texture_mean|perimeter_mean|area_mean|smoothness_mean|compactness_mean|concavity_mean|concave points_mean|symmetry_mean|fractal_dimension_mean|radius_se|texture_se|perimeter_se|area_se|smoothness_se|compactness_se|concavity_se|concave points_se|symmetry_se|fractal_dimension_se|radius_worst|texture_worst|perimeter_worst|area_worst|smoothness_worst|compactness_worst|concavity_worst|concave points_worst|symmetry_worst|fractal_dimension_worst|\n",
      "+------+-----------+------------+--------------+---------+---------------+----------------+--------------+-------------------+-------------+----------------------+---------+----------+------------+-------+-------------+--------------+------------+-----------------+-----------+--------------------+------------+-------------+---------------+----------+----------------+-----------------+---------------+--------------------+--------------+-----------------------+\n",
      "|150010|       13.3|       21.57|         85.24|    546.1|        0.08582|         0.06373|       0.03344|            0.02424|       0.1815|               0.05696|   0.2621|     1.539|       2.028|  20.98|     0.005498|       0.02045|     0.01795|         0.006399|    0.01829|            0.001956|        14.2|         29.2|          92.94|     621.2|           0.114|           0.1667|         0.1212|             0.05614|        0.2637|                0.06658|\n",
      "|150011|      10.48|       14.98|         67.49|    333.6|        0.09816|          0.1013|       0.06335|            0.02218|       0.1925|               0.06915|   0.3276|     1.127|       2.564|  20.77|     0.007364|       0.03867|     0.05263|          0.01264|    0.02161|             0.00483|       12.13|        21.57|          81.41|     440.4|          0.1327|           0.2996|         0.2939|              0.0931|         0.302|                0.09646|\n",
      "+------+-----------+------------+--------------+---------+---------------+----------------+--------------+-------------------+-------------+----------------------+---------+----------+------------+-------+-------------+--------------+------------+-----------------+-----------+--------------------+------------+-------------+---------------+----------+----------------+-----------------+---------------+--------------------+--------------+-----------------------+\n",
      "\n"
     ]
    }
   ],
   "source": [
    "dataset.show()"
   ]
  },
  {
   "cell_type": "markdown",
   "metadata": {},
   "source": [
    "### Preprocessing del dataset"
   ]
  },
  {
   "cell_type": "markdown",
   "metadata": {},
   "source": [
    "#### Modifica dello schema"
   ]
  },
  {
   "cell_type": "markdown",
   "metadata": {},
   "source": [
    "Vediamo lo schema."
   ]
  },
  {
   "cell_type": "code",
   "execution_count": 43,
   "metadata": {},
   "outputs": [
    {
     "name": "stdout",
     "output_type": "stream",
     "text": [
      "root\n",
      " |-- id: string (nullable = true)\n",
      " |-- radius_mean: string (nullable = true)\n",
      " |-- texture_mean: string (nullable = true)\n",
      " |-- perimeter_mean: string (nullable = true)\n",
      " |-- area_mean: string (nullable = true)\n",
      " |-- smoothness_mean: string (nullable = true)\n",
      " |-- compactness_mean: string (nullable = true)\n",
      " |-- concavity_mean: string (nullable = true)\n",
      " |-- concave points_mean: string (nullable = true)\n",
      " |-- symmetry_mean: string (nullable = true)\n",
      " |-- fractal_dimension_mean: string (nullable = true)\n",
      " |-- radius_se: string (nullable = true)\n",
      " |-- texture_se: string (nullable = true)\n",
      " |-- perimeter_se: string (nullable = true)\n",
      " |-- area_se: string (nullable = true)\n",
      " |-- smoothness_se: string (nullable = true)\n",
      " |-- compactness_se: string (nullable = true)\n",
      " |-- concavity_se: string (nullable = true)\n",
      " |-- concave points_se: string (nullable = true)\n",
      " |-- symmetry_se: string (nullable = true)\n",
      " |-- fractal_dimension_se: string (nullable = true)\n",
      " |-- radius_worst: string (nullable = true)\n",
      " |-- texture_worst: string (nullable = true)\n",
      " |-- perimeter_worst: string (nullable = true)\n",
      " |-- area_worst: string (nullable = true)\n",
      " |-- smoothness_worst: string (nullable = true)\n",
      " |-- compactness_worst: string (nullable = true)\n",
      " |-- concavity_worst: string (nullable = true)\n",
      " |-- concave points_worst: string (nullable = true)\n",
      " |-- symmetry_worst: string (nullable = true)\n",
      " |-- fractal_dimension_worst: string (nullable = true)\n",
      "\n"
     ]
    }
   ],
   "source": [
    "dataset.printSchema()"
   ]
  },
  {
   "cell_type": "markdown",
   "metadata": {},
   "source": [
    "Modifico lo schema."
   ]
  },
  {
   "cell_type": "code",
   "execution_count": 44,
   "metadata": {},
   "outputs": [],
   "source": [
    "data_schema = [StructField('id', IntegerType()),\n",
    "               StructField('radius_mean', FloatType()),\n",
    "               StructField('texture_mean', FloatType()),\n",
    "               StructField('perimeter_mean', FloatType()),\n",
    "               StructField('area_mean', FloatType()),\n",
    "               StructField('smoothness_mean', FloatType()),\n",
    "               StructField('compactness_mean', FloatType()),\n",
    "               StructField('concavity_mean', FloatType()),\n",
    "               StructField('concave points_mean', FloatType()),\n",
    "               StructField('symmetry_mean', FloatType()),\n",
    "               StructField('fractal_dimension_mean', FloatType()),\n",
    "               StructField('radius_se', FloatType()),\n",
    "               StructField('texture_se', FloatType()),\n",
    "               StructField('perimeter_se', FloatType()),\n",
    "               StructField('area_se', FloatType()),\n",
    "               StructField('smoothness_se', FloatType()),\n",
    "               StructField('compactness_se', FloatType()),\n",
    "               StructField('concavity_se', FloatType()),\n",
    "               StructField('concave points_se', FloatType()),\n",
    "               StructField('symmetry_se', FloatType()),\n",
    "               StructField('fractal_dimension_se', FloatType()),\n",
    "               StructField('radius_worst', FloatType()),\n",
    "               StructField('texture_worst', FloatType()),\n",
    "               StructField('perimeter_worst', FloatType()),\n",
    "               StructField('area_worst', FloatType()),\n",
    "               StructField('smoothness_worst', FloatType()),\n",
    "               StructField('compactness_worst', FloatType()),\n",
    "               StructField('concavity_worst', FloatType()),\n",
    "               StructField('concave points_worst', FloatType()),\n",
    "               StructField('symmetry_worst', FloatType()),\n",
    "               StructField('fractal_dimension_worst', FloatType())\n",
    "               ]\n",
    "\n",
    "schema = StructType(fields = data_schema)"
   ]
  },
  {
   "cell_type": "code",
   "execution_count": 45,
   "metadata": {},
   "outputs": [],
   "source": [
    "dataset = spark.read.csv('exam_results.csv', header=True, schema = schema)"
   ]
  },
  {
   "cell_type": "code",
   "execution_count": 46,
   "metadata": {},
   "outputs": [
    {
     "name": "stdout",
     "output_type": "stream",
     "text": [
      "+------+-----------+------------+--------------+---------+---------------+----------------+--------------+-------------------+-------------+----------------------+---------+----------+------------+-------+-------------+--------------+------------+-----------------+-----------+--------------------+------------+-------------+---------------+----------+----------------+-----------------+---------------+--------------------+--------------+-----------------------+\n",
      "|    id|radius_mean|texture_mean|perimeter_mean|area_mean|smoothness_mean|compactness_mean|concavity_mean|concave points_mean|symmetry_mean|fractal_dimension_mean|radius_se|texture_se|perimeter_se|area_se|smoothness_se|compactness_se|concavity_se|concave points_se|symmetry_se|fractal_dimension_se|radius_worst|texture_worst|perimeter_worst|area_worst|smoothness_worst|compactness_worst|concavity_worst|concave points_worst|symmetry_worst|fractal_dimension_worst|\n",
      "+------+-----------+------------+--------------+---------+---------------+----------------+--------------+-------------------+-------------+----------------------+---------+----------+------------+-------+-------------+--------------+------------+-----------------+-----------+--------------------+------------+-------------+---------------+----------+----------------+-----------------+---------------+--------------------+--------------+-----------------------+\n",
      "|150010|       13.3|       21.57|         85.24|    546.1|        0.08582|         0.06373|       0.03344|            0.02424|       0.1815|               0.05696|   0.2621|     1.539|       2.028|  20.98|     0.005498|       0.02045|     0.01795|         0.006399|    0.01829|            0.001956|        14.2|         29.2|          92.94|     621.2|           0.114|           0.1667|         0.1212|             0.05614|        0.2637|                0.06658|\n",
      "|150011|      10.48|       14.98|         67.49|    333.6|        0.09816|          0.1013|       0.06335|            0.02218|       0.1925|               0.06915|   0.3276|     1.127|       2.564|  20.77|     0.007364|       0.03867|     0.05263|          0.01264|    0.02161|             0.00483|       12.13|        21.57|          81.41|     440.4|          0.1327|           0.2996|         0.2939|              0.0931|         0.302|                0.09646|\n",
      "+------+-----------+------------+--------------+---------+---------------+----------------+--------------+-------------------+-------------+----------------------+---------+----------+------------+-------+-------------+--------------+------------+-----------------+-----------+--------------------+------------+-------------+---------------+----------+----------------+-----------------+---------------+--------------------+--------------+-----------------------+\n",
      "\n"
     ]
    }
   ],
   "source": [
    "dataset.show(2)"
   ]
  },
  {
   "cell_type": "code",
   "execution_count": 47,
   "metadata": {},
   "outputs": [
    {
     "name": "stdout",
     "output_type": "stream",
     "text": [
      "root\n",
      " |-- id: integer (nullable = true)\n",
      " |-- radius_mean: float (nullable = true)\n",
      " |-- texture_mean: float (nullable = true)\n",
      " |-- perimeter_mean: float (nullable = true)\n",
      " |-- area_mean: float (nullable = true)\n",
      " |-- smoothness_mean: float (nullable = true)\n",
      " |-- compactness_mean: float (nullable = true)\n",
      " |-- concavity_mean: float (nullable = true)\n",
      " |-- concave points_mean: float (nullable = true)\n",
      " |-- symmetry_mean: float (nullable = true)\n",
      " |-- fractal_dimension_mean: float (nullable = true)\n",
      " |-- radius_se: float (nullable = true)\n",
      " |-- texture_se: float (nullable = true)\n",
      " |-- perimeter_se: float (nullable = true)\n",
      " |-- area_se: float (nullable = true)\n",
      " |-- smoothness_se: float (nullable = true)\n",
      " |-- compactness_se: float (nullable = true)\n",
      " |-- concavity_se: float (nullable = true)\n",
      " |-- concave points_se: float (nullable = true)\n",
      " |-- symmetry_se: float (nullable = true)\n",
      " |-- fractal_dimension_se: float (nullable = true)\n",
      " |-- radius_worst: float (nullable = true)\n",
      " |-- texture_worst: float (nullable = true)\n",
      " |-- perimeter_worst: float (nullable = true)\n",
      " |-- area_worst: float (nullable = true)\n",
      " |-- smoothness_worst: float (nullable = true)\n",
      " |-- compactness_worst: float (nullable = true)\n",
      " |-- concavity_worst: float (nullable = true)\n",
      " |-- concave points_worst: float (nullable = true)\n",
      " |-- symmetry_worst: float (nullable = true)\n",
      " |-- fractal_dimension_worst: float (nullable = true)\n",
      "\n"
     ]
    }
   ],
   "source": [
    "dataset.printSchema()"
   ]
  },
  {
   "cell_type": "markdown",
   "metadata": {},
   "source": [
    "#### Check valori nulli"
   ]
  },
  {
   "cell_type": "markdown",
   "metadata": {},
   "source": [
    "Verifico la presenza di valori nulli."
   ]
  },
  {
   "cell_type": "code",
   "execution_count": 48,
   "metadata": {},
   "outputs": [
    {
     "data": {
      "text/plain": [
       "0"
      ]
     },
     "execution_count": 48,
     "metadata": {},
     "output_type": "execute_result"
    }
   ],
   "source": [
    "cancer_df.filter(cancer_df[\"id\"].isNull() | \\\n",
    "                  cancer_df[\"radius_mean\"].isNull() | \\\n",
    "                  cancer_df[\"texture_mean\"].isNull() | \\\n",
    "                  cancer_df[\"perimeter_mean\"].isNull() | \\\n",
    "                  cancer_df[\"area_mean\"].isNull() | \\\n",
    "                  cancer_df[\"smoothness_mean\"].isNull() | \\\n",
    "                  cancer_df[\"compactness_mean\"].isNull() | \\\n",
    "                  cancer_df[\"concavity_mean\"].isNull() | \\\n",
    "                  cancer_df[\"concave points_mean\"].isNull() | \\\n",
    "                  cancer_df[\"symmetry_mean\"].isNull() | \\\n",
    "                  cancer_df[\"fractal_dimension_mean\"].isNull() | \\\n",
    "                  cancer_df[\"radius_se\"].isNull() | \\\n",
    "                  cancer_df[\"texture_se\"].isNull() | \\\n",
    "                  cancer_df[\"perimeter_se\"].isNull() | \\\n",
    "                  cancer_df[\"area_se\"].isNull() | \\\n",
    "                  cancer_df[\"smoothness_se\"].isNull() | \\\n",
    "                  cancer_df[\"compactness_se\"].isNull() | \\\n",
    "                  cancer_df[\"concavity_se\"].isNull() | \\\n",
    "                  cancer_df[\"concave points_se\"].isNull() | \\\n",
    "                  cancer_df[\"symmetry_se\"].isNull() | \\\n",
    "                  cancer_df[\"fractal_dimension_se\"].isNull() | \\\n",
    "                  cancer_df[\"radius_worst\"].isNull() | \\\n",
    "                  cancer_df[\"texture_worst\"].isNull() | \\\n",
    "                  cancer_df[\"perimeter_worst\"].isNull() | \\\n",
    "                  cancer_df[\"area_worst\"].isNull() | \\\n",
    "                  cancer_df[\"smoothness_worst\"].isNull() | \\\n",
    "                  cancer_df[\"compactness_worst\"].isNull() | \\\n",
    "                  cancer_df[\"concavity_worst\"].isNull() | \\\n",
    "                  cancer_df[\"concave points_worst\"].isNull() | \\\n",
    "                  cancer_df[\"symmetry_worst\"].isNull() | \\\n",
    "                  cancer_df[\"fractal_dimension_worst\"].isNull() \\\n",
    "                  ).count()"
   ]
  },
  {
   "cell_type": "markdown",
   "metadata": {},
   "source": [
    "Non ci sono valori nulli."
   ]
  },
  {
   "cell_type": "markdown",
   "metadata": {},
   "source": [
    "#### VectorAssembler"
   ]
  },
  {
   "cell_type": "markdown",
   "metadata": {},
   "source": [
    "Creiamo la colonna con le features."
   ]
  },
  {
   "cell_type": "code",
   "execution_count": 49,
   "metadata": {},
   "outputs": [],
   "source": [
    "dataset = assembler.transform(dataset)"
   ]
  },
  {
   "cell_type": "code",
   "execution_count": 50,
   "metadata": {
    "scrolled": true
   },
   "outputs": [
    {
     "name": "stdout",
     "output_type": "stream",
     "text": [
      "+------+-----------+------------+--------------+---------+---------------+----------------+--------------+-------------------+-------------+----------------------+---------+----------+------------+-------+-------------+--------------+------------+-----------------+-----------+--------------------+------------+-------------+---------------+----------+----------------+-----------------+---------------+--------------------+--------------+-----------------------+--------------------+\n",
      "|    id|radius_mean|texture_mean|perimeter_mean|area_mean|smoothness_mean|compactness_mean|concavity_mean|concave points_mean|symmetry_mean|fractal_dimension_mean|radius_se|texture_se|perimeter_se|area_se|smoothness_se|compactness_se|concavity_se|concave points_se|symmetry_se|fractal_dimension_se|radius_worst|texture_worst|perimeter_worst|area_worst|smoothness_worst|compactness_worst|concavity_worst|concave points_worst|symmetry_worst|fractal_dimension_worst|            features|\n",
      "+------+-----------+------------+--------------+---------+---------------+----------------+--------------+-------------------+-------------+----------------------+---------+----------+------------+-------+-------------+--------------+------------+-----------------+-----------+--------------------+------------+-------------+---------------+----------+----------------+-----------------+---------------+--------------------+--------------+-----------------------+--------------------+\n",
      "|150010|       13.3|       21.57|         85.24|    546.1|        0.08582|         0.06373|       0.03344|            0.02424|       0.1815|               0.05696|   0.2621|     1.539|       2.028|  20.98|     0.005498|       0.02045|     0.01795|         0.006399|    0.01829|            0.001956|        14.2|         29.2|          92.94|     621.2|           0.114|           0.1667|         0.1212|             0.05614|        0.2637|                0.06658|[13.3000001907348...|\n",
      "|150011|      10.48|       14.98|         67.49|    333.6|        0.09816|          0.1013|       0.06335|            0.02218|       0.1925|               0.06915|   0.3276|     1.127|       2.564|  20.77|     0.007364|       0.03867|     0.05263|          0.01264|    0.02161|             0.00483|       12.13|        21.57|          81.41|     440.4|          0.1327|           0.2996|         0.2939|              0.0931|         0.302|                0.09646|[10.4799995422363...|\n",
      "+------+-----------+------------+--------------+---------+---------------+----------------+--------------+-------------------+-------------+----------------------+---------+----------+------------+-------+-------------+--------------+------------+-----------------+-----------+--------------------+------------+-------------+---------------+----------+----------------+-----------------+---------------+--------------------+--------------+-----------------------+--------------------+\n",
      "\n"
     ]
    }
   ],
   "source": [
    "dataset.show()"
   ]
  },
  {
   "cell_type": "markdown",
   "metadata": {},
   "source": [
    "#### Standardizzazione"
   ]
  },
  {
   "cell_type": "markdown",
   "metadata": {},
   "source": [
    "Eseguiamo la standardizzazione"
   ]
  },
  {
   "cell_type": "code",
   "execution_count": 51,
   "metadata": {},
   "outputs": [],
   "source": [
    "dataset = ss.transform(dataset)"
   ]
  },
  {
   "cell_type": "code",
   "execution_count": 52,
   "metadata": {},
   "outputs": [
    {
     "name": "stdout",
     "output_type": "stream",
     "text": [
      "+------+-----------+------------+--------------+---------+---------------+----------------+--------------+-------------------+-------------+----------------------+---------+----------+------------+-------+-------------+--------------+------------+-----------------+-----------+--------------------+------------+-------------+---------------+----------+----------------+-----------------+---------------+--------------------+--------------+-----------------------+--------------------+--------------------+\n",
      "|    id|radius_mean|texture_mean|perimeter_mean|area_mean|smoothness_mean|compactness_mean|concavity_mean|concave points_mean|symmetry_mean|fractal_dimension_mean|radius_se|texture_se|perimeter_se|area_se|smoothness_se|compactness_se|concavity_se|concave points_se|symmetry_se|fractal_dimension_se|radius_worst|texture_worst|perimeter_worst|area_worst|smoothness_worst|compactness_worst|concavity_worst|concave points_worst|symmetry_worst|fractal_dimension_worst|            features|     scaled_features|\n",
      "+------+-----------+------------+--------------+---------+---------------+----------------+--------------+-------------------+-------------+----------------------+---------+----------+------------+-------+-------------+--------------+------------+-----------------+-----------+--------------------+------------+-------------+---------------+----------+----------------+-----------------+---------------+--------------------+--------------+-----------------------+--------------------+--------------------+\n",
      "|150010|       13.3|       21.57|         85.24|    546.1|        0.08582|         0.06373|       0.03344|            0.02424|       0.1815|               0.05696|   0.2621|     1.539|       2.028|  20.98|     0.005498|       0.02045|     0.01795|         0.006399|    0.01829|            0.001956|        14.2|         29.2|          92.94|     621.2|           0.114|           0.1667|         0.1212|             0.05614|        0.2637|                0.06658|[13.3000001907348...|[3.77406809513982...|\n",
      "|150011|      10.48|       14.98|         67.49|    333.6|        0.09816|          0.1013|       0.06335|            0.02218|       0.1925|               0.06915|   0.3276|     1.127|       2.564|  20.77|     0.007364|       0.03867|     0.05263|          0.01264|    0.02161|             0.00483|       12.13|        21.57|          81.41|     440.4|          0.1327|           0.2996|         0.2939|              0.0931|         0.302|                0.09646|[10.4799995422363...|[2.97385198061780...|\n",
      "+------+-----------+------------+--------------+---------+---------------+----------------+--------------+-------------------+-------------+----------------------+---------+----------+------------+-------+-------------+--------------+------------+-----------------+-----------+--------------------+------------+-------------+---------------+----------+----------------+-----------------+---------------+--------------------+--------------+-----------------------+--------------------+--------------------+\n",
      "\n"
     ]
    }
   ],
   "source": [
    "dataset.show()"
   ]
  },
  {
   "cell_type": "markdown",
   "metadata": {},
   "source": [
    "#### Applicazione del modello"
   ]
  },
  {
   "cell_type": "markdown",
   "metadata": {},
   "source": [
    "Otteniamo le predizioni usando il metodo **transform** del modello"
   ]
  },
  {
   "cell_type": "code",
   "execution_count": 53,
   "metadata": {},
   "outputs": [],
   "source": [
    "dataset = lr.transform(dataset)"
   ]
  },
  {
   "cell_type": "code",
   "execution_count": 54,
   "metadata": {},
   "outputs": [
    {
     "data": {
      "text/plain": [
       "['id',\n",
       " 'radius_mean',\n",
       " 'texture_mean',\n",
       " 'perimeter_mean',\n",
       " 'area_mean',\n",
       " 'smoothness_mean',\n",
       " 'compactness_mean',\n",
       " 'concavity_mean',\n",
       " 'concave points_mean',\n",
       " 'symmetry_mean',\n",
       " 'fractal_dimension_mean',\n",
       " 'radius_se',\n",
       " 'texture_se',\n",
       " 'perimeter_se',\n",
       " 'area_se',\n",
       " 'smoothness_se',\n",
       " 'compactness_se',\n",
       " 'concavity_se',\n",
       " 'concave points_se',\n",
       " 'symmetry_se',\n",
       " 'fractal_dimension_se',\n",
       " 'radius_worst',\n",
       " 'texture_worst',\n",
       " 'perimeter_worst',\n",
       " 'area_worst',\n",
       " 'smoothness_worst',\n",
       " 'compactness_worst',\n",
       " 'concavity_worst',\n",
       " 'concave points_worst',\n",
       " 'symmetry_worst',\n",
       " 'fractal_dimension_worst',\n",
       " 'features',\n",
       " 'scaled_features',\n",
       " 'rawPrediction',\n",
       " 'probability',\n",
       " 'prediction']"
      ]
     },
     "execution_count": 54,
     "metadata": {},
     "output_type": "execute_result"
    }
   ],
   "source": [
    "dataset.columns    # da notare ultima colonna"
   ]
  },
  {
   "cell_type": "code",
   "execution_count": 55,
   "metadata": {},
   "outputs": [
    {
     "name": "stdout",
     "output_type": "stream",
     "text": [
      "+------+-----------+------------+--------------+---------+---------------+----------------+--------------+-------------------+-------------+----------------------+---------+----------+------------+-------+-------------+--------------+------------+-----------------+-----------+--------------------+------------+-------------+---------------+----------+----------------+-----------------+---------------+--------------------+--------------+-----------------------+--------------------+--------------------+--------------------+--------------------+----------+\n",
      "|    id|radius_mean|texture_mean|perimeter_mean|area_mean|smoothness_mean|compactness_mean|concavity_mean|concave points_mean|symmetry_mean|fractal_dimension_mean|radius_se|texture_se|perimeter_se|area_se|smoothness_se|compactness_se|concavity_se|concave points_se|symmetry_se|fractal_dimension_se|radius_worst|texture_worst|perimeter_worst|area_worst|smoothness_worst|compactness_worst|concavity_worst|concave points_worst|symmetry_worst|fractal_dimension_worst|            features|     scaled_features|       rawPrediction|         probability|prediction|\n",
      "+------+-----------+------------+--------------+---------+---------------+----------------+--------------+-------------------+-------------+----------------------+---------+----------+------------+-------+-------------+--------------+------------+-----------------+-----------+--------------------+------------+-------------+---------------+----------+----------------+-----------------+---------------+--------------------+--------------+-----------------------+--------------------+--------------------+--------------------+--------------------+----------+\n",
      "|150010|       13.3|       21.57|         85.24|    546.1|        0.08582|         0.06373|       0.03344|            0.02424|       0.1815|               0.05696|   0.2621|     1.539|       2.028|  20.98|     0.005498|       0.02045|     0.01795|         0.006399|    0.01829|            0.001956|        14.2|         29.2|          92.94|     621.2|           0.114|           0.1667|         0.1212|             0.05614|        0.2637|                0.06658|[13.3000001907348...|[3.77406809513982...|[26.0586819814695...|[0.99999999999518...|       0.0|\n",
      "|150011|      10.48|       14.98|         67.49|    333.6|        0.09816|          0.1013|       0.06335|            0.02218|       0.1925|               0.06915|   0.3276|     1.127|       2.564|  20.77|     0.007364|       0.03867|     0.05263|          0.01264|    0.02161|             0.00483|       12.13|        21.57|          81.41|     440.4|          0.1327|           0.2996|         0.2939|              0.0931|         0.302|                0.09646|[10.4799995422363...|[2.97385198061780...|[23.5607069153190...|[0.99999999994142...|       0.0|\n",
      "+------+-----------+------------+--------------+---------+---------------+----------------+--------------+-------------------+-------------+----------------------+---------+----------+------------+-------+-------------+--------------+------------+-----------------+-----------+--------------------+------------+-------------+---------------+----------+----------------+-----------------+---------------+--------------------+--------------+-----------------------+--------------------+--------------------+--------------------+--------------------+----------+\n",
      "\n"
     ]
    }
   ],
   "source": [
    "dataset.show()"
   ]
  },
  {
   "cell_type": "markdown",
   "metadata": {},
   "source": [
    "Il DataFrame risultante contiene due nuove colonne:\n",
    "\n",
    "* **Prediction**: che contiene il label (0=benigno, 1=maligno)\n",
    "* **Probability**: che contiene la probabilità di apparteneza alle due classi."
   ]
  },
  {
   "cell_type": "code",
   "execution_count": 57,
   "metadata": {},
   "outputs": [
    {
     "name": "stdout",
     "output_type": "stream",
     "text": [
      "+------------------------------------------+----------+\n",
      "|probability                               |prediction|\n",
      "+------------------------------------------+----------+\n",
      "|[0.9999999999951821,4.817904750341217E-12]|0.0       |\n",
      "|[0.9999999999414246,5.857536411252989E-11]|0.0       |\n",
      "+------------------------------------------+----------+\n",
      "\n"
     ]
    }
   ],
   "source": [
    "dataset.select(['probability','prediction']).show(truncate=False)"
   ]
  },
  {
   "cell_type": "markdown",
   "metadata": {},
   "source": [
    "I due tumori possono essere considerati entrambi benigni."
   ]
  }
 ],
 "metadata": {
  "kernelspec": {
   "display_name": "Python 3",
   "language": "python",
   "name": "python3"
  },
  "language_info": {
   "codemirror_mode": {
    "name": "ipython",
    "version": 3
   },
   "file_extension": ".py",
   "mimetype": "text/x-python",
   "name": "python",
   "nbconvert_exporter": "python",
   "pygments_lexer": "ipython3",
   "version": "3.7.9"
  }
 },
 "nbformat": 4,
 "nbformat_minor": 4
}
