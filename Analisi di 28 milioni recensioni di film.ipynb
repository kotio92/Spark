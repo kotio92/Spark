{
 "cells": [
  {
   "cell_type": "markdown",
   "metadata": {},
   "source": [
    "# Analisi di 28 milioni recensioni di film"
   ]
  },
  {
   "cell_type": "markdown",
   "metadata": {},
   "source": [
    "In questo notebook utilizzerò Spark con il modulo SparkSQL ed un Dataframe per analizzare oltre 28 milioni di recensioni di film. Nello specifico le domande alla quale cercherò di dare una risposta sono le seguenti:\n",
    "\n"
   ]
  },
  {
   "cell_type": "markdown",
   "metadata": {},
   "source": [
    "* **Quante recensioni ci sono esattamente nel dataset ?**\n",
    "\n",
    "* **Qual è il numero di recensioni medie per utente ?**\n",
    "\n",
    "* **Quale utente ha scritto più recensioni ? Quante sono le recensioni che ha scritto ? Qual è il suo voto medio ?**\n",
    "\n",
    "* **Quali sono i 10 film che hanno ricevuto più recensioni ?**\n",
    "\n",
    "* **Quali sono i 10 film con le recensioni più positive ?**\n",
    "\n",
    "* **Quali sono i 10 film con le recensioni più negative ?**\n",
    "\n",
    "* **Quali sono le 10 recensioni più recenti ?**\n",
    "\n",
    "* **Qual è il film più visto per anno ?**\n",
    "\n",
    "* **Aggiungiamo titolo e genere alla lista dei film più visti per anno**"
   ]
  },
  {
   "cell_type": "markdown",
   "metadata": {},
   "source": [
    "Scarico l'archivio dei film sulla mia macchina"
   ]
  },
  {
   "cell_type": "code",
   "execution_count": null,
   "metadata": {},
   "outputs": [],
   "source": [
    "!wget -q http://files.grouplens.org/datasets/movielens/ml-latest.zip"
   ]
  },
  {
   "cell_type": "markdown",
   "metadata": {},
   "source": [
    "I file che mi interessano sono:\n",
    "\n",
    "+ **ratings.csv**: che contiene, per ogni riga, id dell'utente, id del film, valutazione da 1.0 a 5.0 e timestamp.\n",
    "* **movies.csv**: che contiene nome e genere dei film associati agli id."
   ]
  },
  {
   "cell_type": "markdown",
   "metadata": {},
   "source": [
    "### Librerie"
   ]
  },
  {
   "cell_type": "code",
   "execution_count": 1,
   "metadata": {},
   "outputs": [],
   "source": [
    "import os\n",
    "import pandas as pd"
   ]
  },
  {
   "cell_type": "code",
   "execution_count": 2,
   "metadata": {},
   "outputs": [],
   "source": [
    "import pyspark.sql.functions\n",
    "from pyspark.sql.types import *"
   ]
  },
  {
   "cell_type": "markdown",
   "metadata": {},
   "source": [
    "### Inizializzazione di Spark"
   ]
  },
  {
   "cell_type": "code",
   "execution_count": 3,
   "metadata": {},
   "outputs": [],
   "source": [
    "from pyspark.sql import SparkSession\n",
    "spark = SparkSession.builder.appName('basic').getOrCreate()\n",
    "from pyspark.sql.types import *"
   ]
  },
  {
   "cell_type": "markdown",
   "metadata": {},
   "source": [
    "### Caricamento del dataset"
   ]
  },
  {
   "cell_type": "code",
   "execution_count": 4,
   "metadata": {},
   "outputs": [],
   "source": [
    "ratings = spark.read.csv('ml-latest/ratings.csv',header=True,inferSchema=True)"
   ]
  },
  {
   "cell_type": "code",
   "execution_count": 5,
   "metadata": {},
   "outputs": [
    {
     "name": "stdout",
     "output_type": "stream",
     "text": [
      "+------+-------+------+----------+\n",
      "|userId|movieId|rating| timestamp|\n",
      "+------+-------+------+----------+\n",
      "|     1|    307|   3.5|1256677221|\n",
      "|     1|    481|   3.5|1256677456|\n",
      "|     1|   1091|   1.5|1256677471|\n",
      "|     1|   1257|   4.5|1256677460|\n",
      "|     1|   1449|   4.5|1256677264|\n",
      "+------+-------+------+----------+\n",
      "only showing top 5 rows\n",
      "\n"
     ]
    }
   ],
   "source": [
    "ratings.show(n=5)"
   ]
  },
  {
   "cell_type": "code",
   "execution_count": 6,
   "metadata": {},
   "outputs": [
    {
     "name": "stdout",
     "output_type": "stream",
     "text": [
      "root\n",
      " |-- userId: integer (nullable = true)\n",
      " |-- movieId: integer (nullable = true)\n",
      " |-- rating: double (nullable = true)\n",
      " |-- timestamp: integer (nullable = true)\n",
      "\n"
     ]
    }
   ],
   "source": [
    "ratings.printSchema()"
   ]
  },
  {
   "cell_type": "markdown",
   "metadata": {},
   "source": [
    "Andiamo a modificare lo schema."
   ]
  },
  {
   "cell_type": "code",
   "execution_count": 7,
   "metadata": {},
   "outputs": [],
   "source": [
    "data_schema = [StructField('userId',StringType(),nullable = True),\n",
    "               StructField('movieId',StringType(),nullable = True),\n",
    "               StructField('rating',FloatType(),nullable = True),\n",
    "               StructField('timestamp',IntegerType(),nullable = True)]"
   ]
  },
  {
   "cell_type": "code",
   "execution_count": 8,
   "metadata": {},
   "outputs": [],
   "source": [
    "schema = StructType(fields = data_schema)"
   ]
  },
  {
   "cell_type": "code",
   "execution_count": 9,
   "metadata": {},
   "outputs": [],
   "source": [
    "ratings = spark.read.csv('ml-latest/ratings.csv',header=True,schema = schema)"
   ]
  },
  {
   "cell_type": "code",
   "execution_count": 10,
   "metadata": {},
   "outputs": [
    {
     "name": "stdout",
     "output_type": "stream",
     "text": [
      "+------+-------+------+----------+\n",
      "|userId|movieId|rating| timestamp|\n",
      "+------+-------+------+----------+\n",
      "|     1|    307|   3.5|1256677221|\n",
      "|     1|    481|   3.5|1256677456|\n",
      "|     1|   1091|   1.5|1256677471|\n",
      "|     1|   1257|   4.5|1256677460|\n",
      "|     1|   1449|   4.5|1256677264|\n",
      "+------+-------+------+----------+\n",
      "only showing top 5 rows\n",
      "\n"
     ]
    }
   ],
   "source": [
    "ratings.show(n=5)"
   ]
  },
  {
   "cell_type": "code",
   "execution_count": 11,
   "metadata": {},
   "outputs": [
    {
     "name": "stdout",
     "output_type": "stream",
     "text": [
      "root\n",
      " |-- userId: string (nullable = true)\n",
      " |-- movieId: string (nullable = true)\n",
      " |-- rating: float (nullable = true)\n",
      " |-- timestamp: integer (nullable = true)\n",
      "\n"
     ]
    }
   ],
   "source": [
    "ratings.printSchema()"
   ]
  },
  {
   "cell_type": "markdown",
   "metadata": {},
   "source": [
    "Non rimane che cambiare la colonna Timestamp dal formato unix a uno comprensibile."
   ]
  },
  {
   "cell_type": "code",
   "execution_count": 12,
   "metadata": {},
   "outputs": [],
   "source": [
    "from pyspark.sql.functions import from_unixtime\n",
    "\n",
    "ratings = ratings.withColumn('timestamp',from_unixtime('timestamp', format='yyyy-MM-dd HH:mm:ss'))"
   ]
  },
  {
   "cell_type": "code",
   "execution_count": 13,
   "metadata": {},
   "outputs": [
    {
     "name": "stdout",
     "output_type": "stream",
     "text": [
      "+------+-------+------+-------------------+\n",
      "|userId|movieId|rating|          timestamp|\n",
      "+------+-------+------+-------------------+\n",
      "|     1|    307|   3.5|2009-10-27 22:00:21|\n",
      "|     1|    481|   3.5|2009-10-27 22:04:16|\n",
      "|     1|   1091|   1.5|2009-10-27 22:04:31|\n",
      "|     1|   1257|   4.5|2009-10-27 22:04:20|\n",
      "|     1|   1449|   4.5|2009-10-27 22:01:04|\n",
      "+------+-------+------+-------------------+\n",
      "only showing top 5 rows\n",
      "\n"
     ]
    }
   ],
   "source": [
    "ratings.show(n=5)"
   ]
  },
  {
   "cell_type": "code",
   "execution_count": 14,
   "metadata": {},
   "outputs": [
    {
     "name": "stdout",
     "output_type": "stream",
     "text": [
      "root\n",
      " |-- userId: string (nullable = true)\n",
      " |-- movieId: string (nullable = true)\n",
      " |-- rating: float (nullable = true)\n",
      " |-- timestamp: string (nullable = true)\n",
      "\n"
     ]
    }
   ],
   "source": [
    "ratings.printSchema()"
   ]
  },
  {
   "cell_type": "markdown",
   "metadata": {},
   "source": [
    "A questo punto convertiamo il type dell'ultima colonna da stringa a timestamp."
   ]
  },
  {
   "cell_type": "code",
   "execution_count": 15,
   "metadata": {},
   "outputs": [],
   "source": [
    "from pyspark.sql.functions import to_utc_timestamp\n",
    "\n",
    "ratings = ratings.withColumn('timestamp',to_utc_timestamp(ratings['timestamp'],'UTC'))"
   ]
  },
  {
   "cell_type": "code",
   "execution_count": 16,
   "metadata": {},
   "outputs": [
    {
     "name": "stdout",
     "output_type": "stream",
     "text": [
      "+------+-------+------+-------------------+\n",
      "|userId|movieId|rating|          timestamp|\n",
      "+------+-------+------+-------------------+\n",
      "|     1|    307|   3.5|2009-10-27 22:00:21|\n",
      "|     1|    481|   3.5|2009-10-27 22:04:16|\n",
      "|     1|   1091|   1.5|2009-10-27 22:04:31|\n",
      "|     1|   1257|   4.5|2009-10-27 22:04:20|\n",
      "|     1|   1449|   4.5|2009-10-27 22:01:04|\n",
      "+------+-------+------+-------------------+\n",
      "only showing top 5 rows\n",
      "\n"
     ]
    }
   ],
   "source": [
    "ratings.show(n=5)"
   ]
  },
  {
   "cell_type": "code",
   "execution_count": 17,
   "metadata": {},
   "outputs": [
    {
     "name": "stdout",
     "output_type": "stream",
     "text": [
      "root\n",
      " |-- userId: string (nullable = true)\n",
      " |-- movieId: string (nullable = true)\n",
      " |-- rating: float (nullable = true)\n",
      " |-- timestamp: timestamp (nullable = true)\n",
      "\n"
     ]
    }
   ],
   "source": [
    "ratings.printSchema()"
   ]
  },
  {
   "cell_type": "markdown",
   "metadata": {},
   "source": [
    "#### Quante recensioni ci sono esattamente nel dataset ?"
   ]
  },
  {
   "cell_type": "markdown",
   "metadata": {},
   "source": [
    "Contiamo il numero totale di recensioni."
   ]
  },
  {
   "cell_type": "code",
   "execution_count": 18,
   "metadata": {},
   "outputs": [],
   "source": [
    "num_recensioni = ratings.count()"
   ]
  },
  {
   "cell_type": "code",
   "execution_count": 19,
   "metadata": {},
   "outputs": [
    {
     "name": "stdout",
     "output_type": "stream",
     "text": [
      "Il numero di recensioni è 27753444\n"
     ]
    }
   ],
   "source": [
    "print('Il numero di recensioni è',num_recensioni)"
   ]
  },
  {
   "cell_type": "markdown",
   "metadata": {},
   "source": [
    "#### Qual è il numero di recensioni medie per utente ?"
   ]
  },
  {
   "cell_type": "code",
   "execution_count": 20,
   "metadata": {},
   "outputs": [],
   "source": [
    "ratings_by_user = ratings.groupBy('userId')"
   ]
  },
  {
   "cell_type": "markdown",
   "metadata": {},
   "source": [
    "Di seguito il numero di recensioni per utente."
   ]
  },
  {
   "cell_type": "code",
   "execution_count": 21,
   "metadata": {},
   "outputs": [],
   "source": [
    "ratings_by_user_count = ratings_by_user.count()"
   ]
  },
  {
   "cell_type": "code",
   "execution_count": 22,
   "metadata": {},
   "outputs": [
    {
     "name": "stdout",
     "output_type": "stream",
     "text": [
      "+------+-----+\n",
      "|userId|count|\n",
      "+------+-----+\n",
      "|   296|   10|\n",
      "|   467|   10|\n",
      "|   675|    4|\n",
      "|   691|   15|\n",
      "|   829|   15|\n",
      "|  1090|   12|\n",
      "|  1159|   29|\n",
      "|  1436|  100|\n",
      "|  1512|   79|\n",
      "|  1572|  106|\n",
      "|  2069|  854|\n",
      "|  2088|    1|\n",
      "|  2136|   10|\n",
      "|  2162|   28|\n",
      "|  2294| 2762|\n",
      "|  2904|    1|\n",
      "|  3210|   79|\n",
      "|  3414|   55|\n",
      "|  3606|   22|\n",
      "|  3959|  107|\n",
      "+------+-----+\n",
      "only showing top 20 rows\n",
      "\n"
     ]
    }
   ],
   "source": [
    "ratings_by_user_count.show()"
   ]
  },
  {
   "cell_type": "markdown",
   "metadata": {},
   "source": [
    "Ora vediamo quanti sono i recensori."
   ]
  },
  {
   "cell_type": "code",
   "execution_count": 23,
   "metadata": {},
   "outputs": [],
   "source": [
    "num_reviewers = ratings_by_user_count.count()"
   ]
  },
  {
   "cell_type": "code",
   "execution_count": 24,
   "metadata": {},
   "outputs": [
    {
     "data": {
      "text/plain": [
       "283228"
      ]
     },
     "execution_count": 24,
     "metadata": {},
     "output_type": "execute_result"
    }
   ],
   "source": [
    "num_reviewers"
   ]
  },
  {
   "cell_type": "markdown",
   "metadata": {},
   "source": [
    "Vediamo il numero medio di recensioni per utente."
   ]
  },
  {
   "cell_type": "code",
   "execution_count": 25,
   "metadata": {},
   "outputs": [
    {
     "name": "stdout",
     "output_type": "stream",
     "text": [
      "Il numero medio di recensioni per utente è:  97.98976089934611\n"
     ]
    }
   ],
   "source": [
    "print('Il numero medio di recensioni per utente è: ',num_recensioni/num_reviewers)"
   ]
  },
  {
   "cell_type": "markdown",
   "metadata": {},
   "source": [
    "#### Quale utente ha scritto più recensioni ? Quante sono le recensioni che ha scritto ? Qual è il suo voto medio ?"
   ]
  },
  {
   "cell_type": "code",
   "execution_count": 26,
   "metadata": {},
   "outputs": [],
   "source": [
    "top_reviewer = ratings_by_user_count.sort('count',ascending = False).first()"
   ]
  },
  {
   "cell_type": "code",
   "execution_count": 27,
   "metadata": {},
   "outputs": [
    {
     "data": {
      "text/plain": [
       "Row(userId='123100', count=23715)"
      ]
     },
     "execution_count": 27,
     "metadata": {},
     "output_type": "execute_result"
    }
   ],
   "source": [
    "top_reviewer"
   ]
  },
  {
   "cell_type": "code",
   "execution_count": 28,
   "metadata": {},
   "outputs": [
    {
     "name": "stdout",
     "output_type": "stream",
     "text": [
      "L'utente 123100 è quello che ha scritto più recensioni. Ne ha scritte 23715\n"
     ]
    }
   ],
   "source": [
    "print(\"L'utente \"+str(top_reviewer[0])+\" è quello che ha scritto più recensioni. Ne ha scritte \"+str(top_reviewer[1]))"
   ]
  },
  {
   "cell_type": "code",
   "execution_count": 29,
   "metadata": {},
   "outputs": [],
   "source": [
    "top_viewer_mean = ratings.filter(ratings.userId == str(top_reviewer[0])).agg({'rating':'mean'}).collect()"
   ]
  },
  {
   "cell_type": "code",
   "execution_count": 30,
   "metadata": {},
   "outputs": [
    {
     "name": "stdout",
     "output_type": "stream",
     "text": [
      "La valutazione media del recensore più attivo è 3.1306346194391734 stelle\n"
     ]
    }
   ],
   "source": [
    "print(\"La valutazione media del recensore più attivo è \"+ str(top_viewer_mean[0][0]) + \" stelle\")"
   ]
  },
  {
   "cell_type": "markdown",
   "metadata": {},
   "source": [
    "#### Quali sono i 10 film che hanno ricevuto più recensioni ?"
   ]
  },
  {
   "cell_type": "markdown",
   "metadata": {},
   "source": [
    "Di seguito i 10 film col maggior numero di recensioni (in ordine decrescente)."
   ]
  },
  {
   "cell_type": "code",
   "execution_count": 31,
   "metadata": {},
   "outputs": [
    {
     "name": "stdout",
     "output_type": "stream",
     "text": [
      "+-------+-----+\n",
      "|movieId|count|\n",
      "+-------+-----+\n",
      "|    318|97999|\n",
      "|    356|97040|\n",
      "|    296|92406|\n",
      "|    593|87899|\n",
      "|   2571|84545|\n",
      "|    260|81815|\n",
      "|    480|76451|\n",
      "|    527|71516|\n",
      "|    110|68803|\n",
      "|      1|68469|\n",
      "+-------+-----+\n",
      "only showing top 10 rows\n",
      "\n"
     ]
    }
   ],
   "source": [
    "ratings.groupBy(\"movieId\").count().sort('count',ascending = False).show(10)"
   ]
  },
  {
   "cell_type": "markdown",
   "metadata": {},
   "source": [
    "#### Quali sono i 10 film con le recensioni più positive ? Quali sono i 10 film con le recensioni più negative ?"
   ]
  },
  {
   "cell_type": "markdown",
   "metadata": {},
   "source": [
    "Vado ad applicarlo sui film con più di 100 recensioni."
   ]
  },
  {
   "cell_type": "markdown",
   "metadata": {},
   "source": [
    "10 film con più recensioni positive."
   ]
  },
  {
   "cell_type": "code",
   "execution_count": 32,
   "metadata": {},
   "outputs": [
    {
     "name": "stdout",
     "output_type": "stream",
     "text": [
      "+-------+------------------+--------------+\n",
      "|movieId|       avg(rating)|count(movieId)|\n",
      "+-------+------------------+--------------+\n",
      "| 171011|4.4865181711606095|           853|\n",
      "| 159817| 4.458092485549133|          1384|\n",
      "|    318| 4.424188001918387|         97999|\n",
      "| 170705| 4.399898373983739|           984|\n",
      "| 174053| 4.350558659217877|          1074|\n",
      "| 171495| 4.343949044585988|           157|\n",
      "| 172591| 4.339667458432304|           421|\n",
      "|    858| 4.332892749244713|         60904|\n",
      "|     50| 4.291958829205532|         62180|\n",
      "| 176601| 4.263888888888889|           180|\n",
      "+-------+------------------+--------------+\n",
      "only showing top 10 rows\n",
      "\n"
     ]
    }
   ],
   "source": [
    "ratings \\\n",
    ".groupBy('movieId') \\\n",
    ".agg({'rating':'mean','movieId':'count'}) \\\n",
    ".where(\"count(movieId) > 100\") \\\n",
    ".sort('avg(rating)', ascending =False).show(10)"
   ]
  },
  {
   "cell_type": "markdown",
   "metadata": {},
   "source": [
    "10 film con più recensioni negative."
   ]
  },
  {
   "cell_type": "code",
   "execution_count": 33,
   "metadata": {},
   "outputs": [
    {
     "name": "stdout",
     "output_type": "stream",
     "text": [
      "+-------+------------------+--------------+\n",
      "|movieId|       avg(rating)|count(movieId)|\n",
      "+-------+------------------+--------------+\n",
      "|   8859|0.8739495798319328|           238|\n",
      "|   6483|1.0138592750533049|           469|\n",
      "|   4775| 1.141025641025641|           741|\n",
      "|   1826|1.2038288288288288|           444|\n",
      "|   6587|1.2055555555555555|           810|\n",
      "|  31698|1.2441176470588236|           680|\n",
      "|   5739|1.2612359550561798|           178|\n",
      "|  61348|1.2672849915682969|           593|\n",
      "|   5738|1.3549382716049383|           162|\n",
      "|   3574|1.3580645161290323|           155|\n",
      "+-------+------------------+--------------+\n",
      "only showing top 10 rows\n",
      "\n"
     ]
    }
   ],
   "source": [
    "ratings \\\n",
    ".groupBy('movieId') \\\n",
    ".agg({'rating':'mean','movieId':'count'}) \\\n",
    ".where(\"count(movieId) > 100\") \\\n",
    ".sort('avg(rating)', ascending =True).show(10)"
   ]
  },
  {
   "cell_type": "markdown",
   "metadata": {},
   "source": [
    "#### Quali sono le 10 recensioni più recenti ?"
   ]
  },
  {
   "cell_type": "code",
   "execution_count": 34,
   "metadata": {},
   "outputs": [
    {
     "name": "stdout",
     "output_type": "stream",
     "text": [
      "+------+-------+------+-------------------+\n",
      "|userId|movieId|rating|          timestamp|\n",
      "+------+-------+------+-------------------+\n",
      "| 82922| 167780|   4.0|2018-09-26 08:59:09|\n",
      "| 82922|  53519|   4.0|2018-09-26 08:58:50|\n",
      "|280481|    494|   3.0|2018-09-26 08:58:47|\n",
      "|280481|   2355|   3.0|2018-09-26 08:58:43|\n",
      "|280481|   2294|   2.0|2018-09-26 08:58:41|\n",
      "|280481| 176101|   3.5|2018-09-26 08:58:30|\n",
      "|280481|  64614|   3.0|2018-09-26 08:58:22|\n",
      "| 82922| 165831|   4.0|2018-09-26 08:58:09|\n",
      "|280481|   1079|   2.5|2018-09-26 08:58:06|\n",
      "| 82922|  52281|   4.0|2018-09-26 08:58:05|\n",
      "+------+-------+------+-------------------+\n",
      "only showing top 10 rows\n",
      "\n"
     ]
    }
   ],
   "source": [
    "ratings.sort('timestamp',ascending=False).show(10)"
   ]
  },
  {
   "cell_type": "markdown",
   "metadata": {},
   "source": [
    "#### Qual è il film più visto per anno ?"
   ]
  },
  {
   "cell_type": "markdown",
   "metadata": {},
   "source": [
    "Il film più visto per anno supponiamo sia il film col maggior numero di valutazioni nell'arco dell'anno stesso."
   ]
  },
  {
   "cell_type": "markdown",
   "metadata": {},
   "source": [
    "Aggiungo una colonna con solamente l'anno."
   ]
  },
  {
   "cell_type": "code",
   "execution_count": 35,
   "metadata": {},
   "outputs": [],
   "source": [
    "from pyspark.sql.functions import year, count,max"
   ]
  },
  {
   "cell_type": "code",
   "execution_count": 36,
   "metadata": {},
   "outputs": [],
   "source": [
    "ratings_with_year = ratings.withColumn('year',year(ratings['timestamp'])).drop('timestamp')"
   ]
  },
  {
   "cell_type": "code",
   "execution_count": 37,
   "metadata": {},
   "outputs": [
    {
     "name": "stdout",
     "output_type": "stream",
     "text": [
      "+------+-------+------+----+\n",
      "|userId|movieId|rating|year|\n",
      "+------+-------+------+----+\n",
      "|     1|    307|   3.5|2009|\n",
      "|     1|    481|   3.5|2009|\n",
      "|     1|   1091|   1.5|2009|\n",
      "|     1|   1257|   4.5|2009|\n",
      "|     1|   1449|   4.5|2009|\n",
      "|     1|   1590|   2.5|2009|\n",
      "|     1|   1591|   1.5|2009|\n",
      "|     1|   2134|   4.5|2009|\n",
      "|     1|   2478|   4.0|2009|\n",
      "|     1|   2840|   3.0|2009|\n",
      "|     1|   2986|   2.5|2009|\n",
      "|     1|   3020|   4.0|2009|\n",
      "|     1|   3424|   4.5|2009|\n",
      "|     1|   3698|   3.5|2009|\n",
      "|     1|   3826|   2.0|2009|\n",
      "|     1|   3893|   3.5|2009|\n",
      "|     2|    170|   3.5|2007|\n",
      "|     2|    849|   3.5|2007|\n",
      "|     2|   1186|   3.5|2007|\n",
      "|     2|   1235|   3.0|2007|\n",
      "+------+-------+------+----+\n",
      "only showing top 20 rows\n",
      "\n"
     ]
    }
   ],
   "source": [
    "ratings_with_year.show()"
   ]
  },
  {
   "cell_type": "markdown",
   "metadata": {},
   "source": [
    "Ora vado a raggruppare il dataframe per anno e film."
   ]
  },
  {
   "cell_type": "code",
   "execution_count": 38,
   "metadata": {},
   "outputs": [],
   "source": [
    "ratings_with_year = ratings_with_year.groupBy(['year','movieId']).agg(count('rating').alias('num_reviews'))"
   ]
  },
  {
   "cell_type": "code",
   "execution_count": 39,
   "metadata": {},
   "outputs": [
    {
     "name": "stdout",
     "output_type": "stream",
     "text": [
      "+----+-------+-----------+\n",
      "|year|movieId|num_reviews|\n",
      "+----+-------+-----------+\n",
      "|2005|    255|         43|\n",
      "|2005|   1917|       3460|\n",
      "|2005|   3793|       4089|\n",
      "|2005|   5064|        788|\n",
      "|2005|   6966|        257|\n",
      "|2005|   8912|        155|\n",
      "|1997|   1057|        585|\n",
      "|2000|   1094|       2563|\n",
      "|2015|  68954|       5530|\n",
      "|2015|  78499|       3050|\n",
      "|2015|  95167|        996|\n",
      "|2013|   6378|        327|\n",
      "|1996|    348|       3364|\n",
      "|2001|   4066|        398|\n",
      "|2004|   2409|        334|\n",
      "|2000|   2671|       1842|\n",
      "|1999|    293|       1192|\n",
      "|1999|   1358|       2182|\n",
      "|1999|   2336|       1446|\n",
      "|2003|   2406|        697|\n",
      "+----+-------+-----------+\n",
      "only showing top 20 rows\n",
      "\n"
     ]
    }
   ],
   "source": [
    "ratings_with_year.show()"
   ]
  },
  {
   "cell_type": "code",
   "execution_count": 40,
   "metadata": {},
   "outputs": [],
   "source": [
    "from pyspark.sql import Window"
   ]
  },
  {
   "cell_type": "code",
   "execution_count": 41,
   "metadata": {},
   "outputs": [],
   "source": [
    "windows = Window.partitionBy('year')"
   ]
  },
  {
   "cell_type": "code",
   "execution_count": 42,
   "metadata": {},
   "outputs": [],
   "source": [
    "ratings_with_year = ratings_with_year.withColumn('max_num_reviews',max('num_reviews').over(windows))"
   ]
  },
  {
   "cell_type": "code",
   "execution_count": 43,
   "metadata": {},
   "outputs": [],
   "source": [
    "ratings_with_year = ratings_with_year.where(ratings_with_year['num_reviews'] == ratings_with_year['max_num_reviews'])"
   ]
  },
  {
   "cell_type": "code",
   "execution_count": 44,
   "metadata": {},
   "outputs": [
    {
     "name": "stdout",
     "output_type": "stream",
     "text": [
      "+----+-------+-----------+---------------+\n",
      "|year|movieId|num_reviews|max_num_reviews|\n",
      "+----+-------+-----------+---------------+\n",
      "|2018|    318|       4311|           4311|\n",
      "|2017|    318|       7874|           7874|\n",
      "|2016|    318|       8976|           8976|\n",
      "|2015|   2571|      12775|          12775|\n",
      "|2014|    318|       2673|           2673|\n",
      "|2013|    318|       2713|           2713|\n",
      "|2012|  79132|       2422|           2422|\n",
      "|2011|  79132|       3282|           3282|\n",
      "|2010|  72998|       3884|           3884|\n",
      "|2009|  58559|       3720|           3720|\n",
      "|2008|   2571|       4208|           4208|\n",
      "|2007|   2571|       3409|           3409|\n",
      "|2006|   7153|       4000|           4000|\n",
      "|2005|   5952|       6230|           6230|\n",
      "|2004|   7153|       3699|           3699|\n",
      "|2003|   5952|       3684|           3684|\n",
      "|2002|   4993|       3553|           3553|\n",
      "|2001|   1210|       4516|           4516|\n",
      "|2000|   1210|       7453|           7453|\n",
      "|1999|   2396|       4621|           4621|\n",
      "|1998|   1721|       2398|           2398|\n",
      "|1997|    780|      11350|          11350|\n",
      "|1996|    592|      25760|          25760|\n",
      "|1995|     47|          1|              1|\n",
      "|1995|     21|          1|              1|\n",
      "|1995|   1176|          1|              1|\n",
      "|1995|   1079|          1|              1|\n",
      "+----+-------+-----------+---------------+\n",
      "\n"
     ]
    }
   ],
   "source": [
    "ratings_with_year.sort('year',ascending = False).show(30)"
   ]
  },
  {
   "cell_type": "markdown",
   "metadata": {},
   "source": [
    "Rimuoviamo la colonna \"num_reviews\" e le righe relative al 1995."
   ]
  },
  {
   "cell_type": "code",
   "execution_count": 45,
   "metadata": {},
   "outputs": [],
   "source": [
    "ratings_with_year = ratings_with_year.drop('num_reviews').filter(\"year != 1995\").sort('year',ascending = False)"
   ]
  },
  {
   "cell_type": "code",
   "execution_count": 46,
   "metadata": {},
   "outputs": [
    {
     "name": "stdout",
     "output_type": "stream",
     "text": [
      "+----+-------+---------------+\n",
      "|year|movieId|max_num_reviews|\n",
      "+----+-------+---------------+\n",
      "|2018|    318|           4311|\n",
      "|2017|    318|           7874|\n",
      "|2016|    318|           8976|\n",
      "|2015|   2571|          12775|\n",
      "|2014|    318|           2673|\n",
      "|2013|    318|           2713|\n",
      "|2012|  79132|           2422|\n",
      "|2011|  79132|           3282|\n",
      "|2010|  72998|           3884|\n",
      "|2009|  58559|           3720|\n",
      "|2008|   2571|           4208|\n",
      "|2007|   2571|           3409|\n",
      "|2006|   7153|           4000|\n",
      "|2005|   5952|           6230|\n",
      "|2004|   7153|           3699|\n",
      "|2003|   5952|           3684|\n",
      "|2002|   4993|           3553|\n",
      "|2001|   1210|           4516|\n",
      "|2000|   1210|           7453|\n",
      "|1999|   2396|           4621|\n",
      "|1998|   1721|           2398|\n",
      "|1997|    780|          11350|\n",
      "|1996|    592|          25760|\n",
      "+----+-------+---------------+\n",
      "\n"
     ]
    }
   ],
   "source": [
    "ratings_with_year.show(30)"
   ]
  },
  {
   "cell_type": "markdown",
   "metadata": {},
   "source": [
    "#### Aggiungiamo titolo e genere alla lista dei film più visti per anno"
   ]
  },
  {
   "cell_type": "markdown",
   "metadata": {},
   "source": [
    "Per farlo devo importare un altro dataset."
   ]
  },
  {
   "cell_type": "code",
   "execution_count": 47,
   "metadata": {},
   "outputs": [],
   "source": [
    "movies = spark.read.csv('ml-latest/movies.csv',header = True, inferSchema=True)"
   ]
  },
  {
   "cell_type": "code",
   "execution_count": 48,
   "metadata": {},
   "outputs": [
    {
     "name": "stdout",
     "output_type": "stream",
     "text": [
      "+-------+--------------------+--------------------+\n",
      "|movieId|               title|              genres|\n",
      "+-------+--------------------+--------------------+\n",
      "|      1|    Toy Story (1995)|Adventure|Animati...|\n",
      "|      2|      Jumanji (1995)|Adventure|Childre...|\n",
      "|      3|Grumpier Old Men ...|      Comedy|Romance|\n",
      "|      4|Waiting to Exhale...|Comedy|Drama|Romance|\n",
      "|      5|Father of the Bri...|              Comedy|\n",
      "+-------+--------------------+--------------------+\n",
      "only showing top 5 rows\n",
      "\n"
     ]
    }
   ],
   "source": [
    "movies.show(5)"
   ]
  },
  {
   "cell_type": "code",
   "execution_count": 49,
   "metadata": {},
   "outputs": [
    {
     "name": "stdout",
     "output_type": "stream",
     "text": [
      "+----+-------+---------------+\n",
      "|year|movieId|max_num_reviews|\n",
      "+----+-------+---------------+\n",
      "|2018|    318|           4311|\n",
      "|2017|    318|           7874|\n",
      "|2016|    318|           8976|\n",
      "|2015|   2571|          12775|\n",
      "|2014|    318|           2673|\n",
      "+----+-------+---------------+\n",
      "only showing top 5 rows\n",
      "\n"
     ]
    }
   ],
   "source": [
    "ratings_with_year.show(5)"
   ]
  },
  {
   "cell_type": "code",
   "execution_count": 50,
   "metadata": {},
   "outputs": [
    {
     "name": "stdout",
     "output_type": "stream",
     "text": [
      "root\n",
      " |-- movieId: integer (nullable = true)\n",
      " |-- title: string (nullable = true)\n",
      " |-- genres: string (nullable = true)\n",
      "\n"
     ]
    }
   ],
   "source": [
    "movies.printSchema()"
   ]
  },
  {
   "cell_type": "code",
   "execution_count": 51,
   "metadata": {},
   "outputs": [
    {
     "name": "stdout",
     "output_type": "stream",
     "text": [
      "root\n",
      " |-- year: integer (nullable = true)\n",
      " |-- movieId: string (nullable = true)\n",
      " |-- max_num_reviews: long (nullable = true)\n",
      "\n"
     ]
    }
   ],
   "source": [
    "ratings_with_year.printSchema()"
   ]
  },
  {
   "cell_type": "markdown",
   "metadata": {},
   "source": [
    "A questo punto andiamo a fare semplicemente una join."
   ]
  },
  {
   "cell_type": "code",
   "execution_count": 52,
   "metadata": {},
   "outputs": [],
   "source": [
    "left_join = ratings_with_year.join(movies, ratings_with_year.movieId == movies.movieId,how='left')"
   ]
  },
  {
   "cell_type": "code",
   "execution_count": 53,
   "metadata": {},
   "outputs": [
    {
     "name": "stdout",
     "output_type": "stream",
     "text": [
      "+----+--------------------+--------------------+---------------+\n",
      "|year|               title|              genres|max_num_reviews|\n",
      "+----+--------------------+--------------------+---------------+\n",
      "|2018|Shawshank Redempt...|         Crime|Drama|           4311|\n",
      "|2017|Shawshank Redempt...|         Crime|Drama|           7874|\n",
      "|2016|Shawshank Redempt...|         Crime|Drama|           8976|\n",
      "|2015|  Matrix, The (1999)|Action|Sci-Fi|Thr...|          12775|\n",
      "|2014|Shawshank Redempt...|         Crime|Drama|           2673|\n",
      "|2013|Shawshank Redempt...|         Crime|Drama|           2713|\n",
      "|2012|    Inception (2010)|Action|Crime|Dram...|           2422|\n",
      "|2011|    Inception (2010)|Action|Crime|Dram...|           3282|\n",
      "|2010|       Avatar (2009)|Action|Adventure|...|           3884|\n",
      "|2009|Dark Knight, The ...|Action|Crime|Dram...|           3720|\n",
      "|2008|  Matrix, The (1999)|Action|Sci-Fi|Thr...|           4208|\n",
      "|2007|  Matrix, The (1999)|Action|Sci-Fi|Thr...|           3409|\n",
      "|2006|Lord of the Rings...|Action|Adventure|...|           4000|\n",
      "|2005|Lord of the Rings...|   Adventure|Fantasy|           6230|\n",
      "|2004|Lord of the Rings...|Action|Adventure|...|           3699|\n",
      "|2003|Lord of the Rings...|   Adventure|Fantasy|           3684|\n",
      "|2002|Lord of the Rings...|   Adventure|Fantasy|           3553|\n",
      "|2001|Star Wars: Episod...|Action|Adventure|...|           4516|\n",
      "|2000|Star Wars: Episod...|Action|Adventure|...|           7453|\n",
      "|1999|Shakespeare in Lo...|Comedy|Drama|Romance|           4621|\n",
      "|1998|      Titanic (1997)|       Drama|Romance|           2398|\n",
      "|1997|Independence Day ...|Action|Adventure|...|          11350|\n",
      "|1996|       Batman (1989)|Action|Crime|Thri...|          25760|\n",
      "+----+--------------------+--------------------+---------------+\n",
      "\n"
     ]
    }
   ],
   "source": [
    "left_join.select(['year','title','genres','max_num_reviews']).sort('year',ascending=False).show(30)"
   ]
  }
 ],
 "metadata": {
  "kernelspec": {
   "display_name": "Python 3",
   "language": "python",
   "name": "python3"
  },
  "language_info": {
   "codemirror_mode": {
    "name": "ipython",
    "version": 3
   },
   "file_extension": ".py",
   "mimetype": "text/x-python",
   "name": "python",
   "nbconvert_exporter": "python",
   "pygments_lexer": "ipython3",
   "version": "3.7.9"
  }
 },
 "nbformat": 4,
 "nbformat_minor": 4
}
