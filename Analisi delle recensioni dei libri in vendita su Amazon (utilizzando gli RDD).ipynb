{
 "cells": [
  {
   "cell_type": "markdown",
   "metadata": {},
   "source": [
    "### Settaggio Pyspark"
   ]
  },
  {
   "cell_type": "markdown",
   "metadata": {},
   "source": [
    "Web app per monitorare i jobs in esecuzione su Spark: **http://localhost:4040/jobs/**"
   ]
  },
  {
   "cell_type": "code",
   "execution_count": 1,
   "metadata": {},
   "outputs": [],
   "source": [
    "from pyspark import SparkConf, SparkContext"
   ]
  },
  {
   "cell_type": "code",
   "execution_count": 2,
   "metadata": {},
   "outputs": [],
   "source": [
    "conf = SparkConf().setAppName('AmazonReviews').setMaster('local')\n",
    "sc = SparkContext(conf = conf)"
   ]
  },
  {
   "cell_type": "markdown",
   "metadata": {},
   "source": [
    "### Contesto"
   ]
  },
  {
   "cell_type": "markdown",
   "metadata": {},
   "source": [
    "In questo notebook utilizzeremo gli RDD di Spark per analizzare circa 22.5 milioni di valutazioni di libri prese da Amazon. Le domande alle quali risponderemo sono le seguenti:\n",
    "\n",
    "* Quante valutazioni ci sono nel dataset ?\n",
    "* Quanti libri ci sono nel dataset ?\n",
    "* Quante valutazioni ha ricevuto ogni libro ?\n",
    "* Quali sono i 10 libri più valutati ?\n",
    "* Qual è la valutazione media per ogni libro ?\n",
    "* Quali sono i 10 libri con la valutazione più alta ?\n",
    "* Chi sono i 10 recensori più critici ?"
   ]
  },
  {
   "cell_type": "markdown",
   "metadata": {},
   "source": [
    "### Importo il dataset"
   ]
  },
  {
   "cell_type": "code",
   "execution_count": 3,
   "metadata": {},
   "outputs": [],
   "source": [
    "rdd = sc.textFile('ratings_Books.csv')"
   ]
  },
  {
   "cell_type": "code",
   "execution_count": 4,
   "metadata": {},
   "outputs": [
    {
     "data": {
      "text/plain": [
       "['AH2L9G3DQHHAJ,0000000116,4.0,1019865600',\n",
       " 'A2IIIDRK3PRRZY,0000000116,1.0,1395619200',\n",
       " 'A1TADCM7YWPQ8M,0000000868,4.0,1031702400',\n",
       " 'AWGH7V0BDOJKB,0000013714,4.0,1383177600',\n",
       " 'A3UTQPQPM4TQO0,0000013714,5.0,1374883200']"
      ]
     },
     "execution_count": 4,
     "metadata": {},
     "output_type": "execute_result"
    }
   ],
   "source": [
    "rdd.take(5)"
   ]
  },
  {
   "cell_type": "markdown",
   "metadata": {},
   "source": [
    "Vediamo cosa rappresentano le 4 colonne:\n",
    "\n",
    "* **ID utente**: codice identificativo dell'utente che ha scritto la recensione;\n",
    "* **ID libro**: codice identificativo del libro oggetto della recensione;\n",
    "* **Voto**: valutazione eseguita dall'utente sul libro;\n",
    "* **Timestamp**: quando è stata scritta la recensione"
   ]
  },
  {
   "cell_type": "markdown",
   "metadata": {},
   "source": [
    "Utilizzando il seguente url seguito dal codice del libro ci si ricollega alla pagina Amazon relativa a quel libro:\n",
    "**https://www.amazon.com/dp/codice_libro**"
   ]
  },
  {
   "cell_type": "code",
   "execution_count": 5,
   "metadata": {},
   "outputs": [],
   "source": [
    "rdd = rdd.map(lambda x:x.split(','))"
   ]
  },
  {
   "cell_type": "code",
   "execution_count": 6,
   "metadata": {},
   "outputs": [
    {
     "data": {
      "text/plain": [
       "[['AH2L9G3DQHHAJ', '0000000116', '4.0', '1019865600'],\n",
       " ['A2IIIDRK3PRRZY', '0000000116', '1.0', '1395619200'],\n",
       " ['A1TADCM7YWPQ8M', '0000000868', '4.0', '1031702400'],\n",
       " ['AWGH7V0BDOJKB', '0000013714', '4.0', '1383177600'],\n",
       " ['A3UTQPQPM4TQO0', '0000013714', '5.0', '1374883200']]"
      ]
     },
     "execution_count": 6,
     "metadata": {},
     "output_type": "execute_result"
    }
   ],
   "source": [
    "rdd.take(5)"
   ]
  },
  {
   "cell_type": "markdown",
   "metadata": {},
   "source": [
    "#### Quante valutazioni ci sono nel dataset ?"
   ]
  },
  {
   "cell_type": "code",
   "execution_count": 7,
   "metadata": {},
   "outputs": [],
   "source": [
    "numValutazioni = rdd.count()"
   ]
  },
  {
   "cell_type": "code",
   "execution_count": 8,
   "metadata": {},
   "outputs": [
    {
     "name": "stdout",
     "output_type": "stream",
     "text": [
      "Il numero di valutazioni presenti nel dataset è 22507155\n"
     ]
    }
   ],
   "source": [
    "print('Il numero di valutazioni presenti nel dataset è',numValutazioni)"
   ]
  },
  {
   "cell_type": "markdown",
   "metadata": {},
   "source": [
    "#### Quanti libri ci sono nel dataset ?"
   ]
  },
  {
   "cell_type": "markdown",
   "metadata": {},
   "source": [
    "Considera che ogni libro è associato a un codice della seconda colonna."
   ]
  },
  {
   "cell_type": "code",
   "execution_count": 9,
   "metadata": {},
   "outputs": [],
   "source": [
    "numLibri = rdd.map(lambda x:x[1]).distinct().count()"
   ]
  },
  {
   "cell_type": "code",
   "execution_count": 10,
   "metadata": {},
   "outputs": [
    {
     "name": "stdout",
     "output_type": "stream",
     "text": [
      "Il numero di libri presenti nel dataset è 2330066\n"
     ]
    }
   ],
   "source": [
    "print('Il numero di libri presenti nel dataset è',numLibri)"
   ]
  },
  {
   "cell_type": "markdown",
   "metadata": {},
   "source": [
    "#### Quante valutazioni ha ricevuto ogni libro ?"
   ]
  },
  {
   "cell_type": "code",
   "execution_count": 11,
   "metadata": {},
   "outputs": [],
   "source": [
    "books_and_num_eval = rdd.map(lambda x:x[1]).countByValue()"
   ]
  },
  {
   "cell_type": "markdown",
   "metadata": {},
   "source": [
    "Visualizziamo solo i primi 10."
   ]
  },
  {
   "cell_type": "code",
   "execution_count": 15,
   "metadata": {},
   "outputs": [
    {
     "name": "stdout",
     "output_type": "stream",
     "text": [
      "('0000000116', 2)\n",
      "('0000000868', 1)\n",
      "('0000013714', 14)\n",
      "('0000015393', 1)\n",
      "('0000029831', 5)\n",
      "('0000038504', 2)\n",
      "('0000041696', 4)\n",
      "('0000095699', 1)\n",
      "('0000174076', 1)\n",
      "('0000202010', 1)\n",
      "('0000230022', 10)\n"
     ]
    }
   ],
   "source": [
    "contatore = 0\n",
    "\n",
    "for i,j in books_and_num_eval.items():\n",
    "    if contatore <=10:\n",
    "        print((i,j))\n",
    "        contatore = contatore + 1\n",
    "    else:\n",
    "        break"
   ]
  },
  {
   "cell_type": "markdown",
   "metadata": {},
   "source": [
    "#### Quali sono i 10 libri più valutati ?"
   ]
  },
  {
   "cell_type": "code",
   "execution_count": 16,
   "metadata": {},
   "outputs": [],
   "source": [
    "ten_most_evaluated = sorted(books_and_num_eval.items(), key = lambda kv: kv[1], reverse=True)[:10]"
   ]
  },
  {
   "cell_type": "code",
   "execution_count": 17,
   "metadata": {},
   "outputs": [
    {
     "data": {
      "text/plain": [
       "[('0439023483', 21398),\n",
       " ('030758836X', 19867),\n",
       " ('0439023513', 14114),\n",
       " ('0385537859', 12973),\n",
       " ('0007444117', 12629),\n",
       " ('0375831002', 12571),\n",
       " ('038536315X', 12564),\n",
       " ('0345803485', 12290),\n",
       " ('0316055433', 11746),\n",
       " ('0849922070', 10424)]"
      ]
     },
     "execution_count": 17,
     "metadata": {},
     "output_type": "execute_result"
    }
   ],
   "source": [
    "ten_most_evaluated"
   ]
  },
  {
   "cell_type": "markdown",
   "metadata": {},
   "source": [
    "Si può anche fare in un altro  modo (meno veloce)"
   ]
  },
  {
   "cell_type": "code",
   "execution_count": 18,
   "metadata": {},
   "outputs": [],
   "source": [
    "ten_most_evaluated = rdd.map(lambda x:(x[1],1)).reduceByKey(lambda x,y:x+y).sortBy(lambda x:x[1],ascending = False).take(10)"
   ]
  },
  {
   "cell_type": "code",
   "execution_count": 19,
   "metadata": {},
   "outputs": [
    {
     "data": {
      "text/plain": [
       "[('0439023483', 21398),\n",
       " ('030758836X', 19867),\n",
       " ('0439023513', 14114),\n",
       " ('0385537859', 12973),\n",
       " ('0007444117', 12629),\n",
       " ('0375831002', 12571),\n",
       " ('038536315X', 12564),\n",
       " ('0345803485', 12290),\n",
       " ('0316055433', 11746),\n",
       " ('0849922070', 10424)]"
      ]
     },
     "execution_count": 19,
     "metadata": {},
     "output_type": "execute_result"
    }
   ],
   "source": [
    "ten_most_evaluated"
   ]
  },
  {
   "cell_type": "markdown",
   "metadata": {},
   "source": [
    "#### Qual è la valutazione media per ogni libro ?"
   ]
  },
  {
   "cell_type": "markdown",
   "metadata": {},
   "source": [
    "Per praticità elenco solo i primi 10."
   ]
  },
  {
   "cell_type": "code",
   "execution_count": 20,
   "metadata": {},
   "outputs": [],
   "source": [
    "books_mean_eval = rdd.map(lambda x:[x[1],(float(x[2]),1)]).reduceByKey(lambda x,y:(x[0]+y[0],x[1]+y[1])).mapValues(lambda x:x[0]/x[1])"
   ]
  },
  {
   "cell_type": "code",
   "execution_count": 21,
   "metadata": {},
   "outputs": [
    {
     "data": {
      "text/plain": [
       "[('0001006657', 5.0),\n",
       " ('0001922408', 5.0),\n",
       " ('0002000601', 3.8333333333333335),\n",
       " ('0002006650', 4.0),\n",
       " ('0002007770', 4.398933511081486),\n",
       " ('0002153327', 5.0),\n",
       " ('0002153904', 5.0),\n",
       " ('0002159260', 5.0),\n",
       " ('0002159627', 5.0),\n",
       " ('0002161621', 3.75)]"
      ]
     },
     "execution_count": 21,
     "metadata": {},
     "output_type": "execute_result"
    }
   ],
   "source": [
    "books_mean_eval.take(10)"
   ]
  },
  {
   "cell_type": "markdown",
   "metadata": {},
   "source": [
    "#### Quali sono i 10 libri con la valutazione più alta ?"
   ]
  },
  {
   "cell_type": "markdown",
   "metadata": {},
   "source": [
    "Innanzitutto stampo a video anche il numero di recensioni."
   ]
  },
  {
   "cell_type": "code",
   "execution_count": 22,
   "metadata": {},
   "outputs": [],
   "source": [
    "books_mean_eval_with_num_reviews = rdd.map(lambda x:[x[1],(float(x[2]),1)]).reduceByKey(lambda x,y:(x[0]+y[0],x[1]+y[1])).mapValues(lambda x:(x[0]/x[1],x[1]))"
   ]
  },
  {
   "cell_type": "code",
   "execution_count": 23,
   "metadata": {},
   "outputs": [
    {
     "data": {
      "text/plain": [
       "[('0001006657', (5.0, 2)),\n",
       " ('0001922408', (5.0, 2)),\n",
       " ('0002000601', (3.8333333333333335, 6)),\n",
       " ('0002006650', (4.0, 2)),\n",
       " ('0002007770', (4.398933511081486, 6001)),\n",
       " ('0002153327', (5.0, 1)),\n",
       " ('0002153904', (5.0, 3)),\n",
       " ('0002159260', (5.0, 1)),\n",
       " ('0002159627', (5.0, 5)),\n",
       " ('0002161621', (3.75, 4))]"
      ]
     },
     "execution_count": 23,
     "metadata": {},
     "output_type": "execute_result"
    }
   ],
   "source": [
    "books_mean_eval_with_num_reviews.take(10)"
   ]
  },
  {
   "cell_type": "markdown",
   "metadata": {},
   "source": [
    "Filtro tutti i libri che hanno avuto almeno 100 recensioni."
   ]
  },
  {
   "cell_type": "code",
   "execution_count": 24,
   "metadata": {},
   "outputs": [],
   "source": [
    "books_mean_eval_with_num_reviews_filtered = books_mean_eval_with_num_reviews.filter(lambda x: x[1][1]>=100)"
   ]
  },
  {
   "cell_type": "code",
   "execution_count": 25,
   "metadata": {},
   "outputs": [
    {
     "data": {
      "text/plain": [
       "[('0002007770', (4.398933511081486, 6001)),\n",
       " ('000222383X', (4.518518518518518, 108)),\n",
       " ('0007102658', (4.560344827586207, 116)),\n",
       " ('0007423632', (4.0449050086355784, 579)),\n",
       " ('0020519109', (4.168454935622318, 932)),\n",
       " ('003061368X', (4.787644787644788, 259)),\n",
       " ('006009334X', (3.718562874251497, 167)),\n",
       " ('0060098902', (4.215700660308144, 4089)),\n",
       " ('0060195339', (4.3618421052631575, 152)),\n",
       " ('0060245603', (4.542857142857143, 105))]"
      ]
     },
     "execution_count": 25,
     "metadata": {},
     "output_type": "execute_result"
    }
   ],
   "source": [
    "books_mean_eval_with_num_reviews_filtered.take(10)"
   ]
  },
  {
   "cell_type": "markdown",
   "metadata": {},
   "source": [
    "Ora li ordino in maniera decrescente di valutazione e stampo i primi 10."
   ]
  },
  {
   "cell_type": "code",
   "execution_count": 26,
   "metadata": {},
   "outputs": [
    {
     "data": {
      "text/plain": [
       "[('0983408904', (5.0, 128)),\n",
       " ('0830766316', (5.0, 103)),\n",
       " ('0972394648', (4.992647058823529, 136)),\n",
       " ('1499390165', (4.991803278688525, 122)),\n",
       " ('0849381185', (4.990566037735849, 106)),\n",
       " ('0757317723', (4.9862068965517246, 145)),\n",
       " ('1939629071', (4.983193277310924, 119)),\n",
       " ('1499381921', (4.982857142857143, 350)),\n",
       " ('1616387165', (4.981308411214953, 107)),\n",
       " ('0814416993', (4.980769230769231, 104))]"
      ]
     },
     "execution_count": 26,
     "metadata": {},
     "output_type": "execute_result"
    }
   ],
   "source": [
    "books_mean_eval_with_num_reviews_filtered.sortBy(lambda x:x[1][0],ascending = False).take(10)"
   ]
  },
  {
   "cell_type": "markdown",
   "metadata": {},
   "source": [
    "#### Chi sono i 10 recensori più critici ?"
   ]
  },
  {
   "cell_type": "markdown",
   "metadata": {},
   "source": [
    "Con \"recensori più critici\" si intendono coloro che hanno rilasciato le recensioni più basse."
   ]
  },
  {
   "cell_type": "markdown",
   "metadata": {},
   "source": [
    "Dunque andremo a calcolare la valutazione media lasciata da ogni recensore e andremo a ordinare in maniera crescente (considerando solo i rcensori che hanno scritto più di 100 recensioni)."
   ]
  },
  {
   "cell_type": "code",
   "execution_count": 27,
   "metadata": {},
   "outputs": [],
   "source": [
    "mean_reviewer = rdd.map(lambda x:[x[0],(float(x[2]),1)]) \\\n",
    "                   .reduceByKey(lambda x,y:(x[0]+y[0],x[1]+y[1])) \\\n",
    "                   .filter(lambda x:x[1][1]>=100) \\\n",
    "                   .mapValues(lambda x:x[0]/x[1])"
   ]
  },
  {
   "cell_type": "code",
   "execution_count": 28,
   "metadata": {},
   "outputs": [
    {
     "data": {
      "text/plain": [
       "[('AH62BQTCMR3BR', 1.0534188034188035),\n",
       " ('A186OSXC7LHJDB', 1.2014925373134329),\n",
       " ('A2HESNQJZ9OB7H', 1.2543859649122806),\n",
       " ('A36IQRD3B5MK8G', 1.505050505050505),\n",
       " ('A3JF63XRSLLH0P', 1.5648148148148149),\n",
       " ('A344N0X5LIV43M', 1.646551724137931),\n",
       " ('A1SS16UHYW77D4', 1.855421686746988),\n",
       " ('A19UFCMSFGOZ2K', 2.076923076923077),\n",
       " ('A1NJHOGKZZRAX8', 2.1588785046728973),\n",
       " ('A1QMY19SW6RHJP', 2.2)]"
      ]
     },
     "execution_count": 28,
     "metadata": {},
     "output_type": "execute_result"
    }
   ],
   "source": [
    "mean_reviewer.sortBy(lambda x:x[1]).take(10)"
   ]
  }
 ],
 "metadata": {
  "kernelspec": {
   "display_name": "Python 3",
   "language": "python",
   "name": "python3"
  },
  "language_info": {
   "codemirror_mode": {
    "name": "ipython",
    "version": 3
   },
   "file_extension": ".py",
   "mimetype": "text/x-python",
   "name": "python",
   "nbconvert_exporter": "python",
   "pygments_lexer": "ipython3",
   "version": "3.7.9"
  }
 },
 "nbformat": 4,
 "nbformat_minor": 4
}
